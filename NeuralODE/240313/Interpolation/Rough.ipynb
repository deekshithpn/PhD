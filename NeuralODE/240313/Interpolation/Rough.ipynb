{
 "cells": [
  {
   "cell_type": "code",
   "execution_count": 1,
   "id": "7a308e21-8afe-487a-9754-d39695b52ece",
   "metadata": {},
   "outputs": [],
   "source": [
    "import os\n",
    "import argparse\n",
    "import time\n",
    "import numpy as np\n",
    "\n",
    "import torch\n",
    "import torch.nn as nn\n",
    "import torch.optim as optim\n",
    "\n",
    "torch.manual_seed(1000)\n",
    "np.random.seed(1000)\n",
    "import numpy as np\n",
    "import torch\n",
    "import torchvision\n",
    "from torch.utils.data.dataset import Dataset\n",
    "from torchvision import datasets, transforms\n",
    "from torch import nn, optim\n",
    "import matplotlib.pyplot as plt"
   ]
  },
  {
   "cell_type": "code",
   "execution_count": 2,
   "id": "8a5524f6-6794-4588-8638-b0f11a779951",
   "metadata": {},
   "outputs": [],
   "source": [
    "interpolMeanNN = nn.Sequential(\n",
    "    nn.Linear(1, 64),\n",
    "            nn.Tanh(),\n",
    "            nn.Linear(64, 64),\n",
    "            nn.Tanh(),\n",
    "            nn.Linear(64, 1)\n",
    "    ).to(torch.float64)\n",
    "interpolVarNN = nn.Sequential(\n",
    "    nn.Linear(1, 64),\n",
    "            nn.Tanh(),\n",
    "            nn.Linear(64, 64),\n",
    "            nn.Tanh(),\n",
    "            nn.Linear(64, 1)\n",
    "    ).to(torch.float64)"
   ]
  },
  {
   "cell_type": "code",
   "execution_count": 3,
   "id": "ba519818-9a25-4b75-b3fd-5b7e4507ab34",
   "metadata": {},
   "outputs": [
    {
     "data": {
      "text/plain": [
       "<All keys matched successfully>"
      ]
     },
     "execution_count": 3,
     "metadata": {},
     "output_type": "execute_result"
    }
   ],
   "source": [
    "interpolMeanNN.load_state_dict(torch.load('interpolMean_64_64.pth'))\n",
    "interpolVarNN.load_state_dict(torch.load('interpolVar_64_64.pth'))"
   ]
  },
  {
   "cell_type": "code",
   "execution_count": 4,
   "id": "fb18f9e6-1f73-41ad-8352-2d68f17a354b",
   "metadata": {},
   "outputs": [
    {
     "data": {
      "text/plain": [
       "Sequential(\n",
       "  (0): Linear(in_features=1, out_features=64, bias=True)\n",
       "  (1): Tanh()\n",
       "  (2): Linear(in_features=64, out_features=64, bias=True)\n",
       "  (3): Tanh()\n",
       "  (4): Linear(in_features=64, out_features=1, bias=True)\n",
       ")"
      ]
     },
     "execution_count": 4,
     "metadata": {},
     "output_type": "execute_result"
    }
   ],
   "source": [
    "interpolMeanNN.eval()\n",
    "interpolVarNN.eval()"
   ]
  },
  {
   "cell_type": "code",
   "execution_count": 5,
   "id": "a953b1f1-c5db-43bc-872a-4cc0d579757b",
   "metadata": {},
   "outputs": [
    {
     "data": {
      "image/png": "[encoded data removed]",
      "text/plain": [
       "<Figure size 432x288 with 1 Axes>"
      ]
     },
     "metadata": {
      "needs_background": "light"
     },
     "output_type": "display_data"
    }
   ],
   "source": [
    "x_test = torch.unsqueeze(torch.linspace(0.1156, 1.670, 1999), dim=1).double()\n",
    "y_test1 = interpolMeanNN(x_test)\n",
    "y_test2 = interpolVarNN(x_test)\n",
    "\n",
    "\n",
    "plt.plot(x_test, y_test1.detach().numpy(), 'r')\n",
    "plt.plot(x_test, y_test2.detach().numpy(), 'b')\n",
    "plt.show()"
   ]
  },
  {
   "cell_type": "code",
   "execution_count": null,
   "id": "0f0446eb-6571-4113-9aaf-0b00a36ff147",
   "metadata": {},
   "outputs": [],
   "source": []
  }
 ],
 "metadata": {
  "kernelspec": {
   "display_name": "Python 3 (ipykernel)",
   "language": "python",
   "name": "python3"
  },
  "language_info": {
   "codemirror_mode": {
    "name": "ipython",
    "version": 3
   },
   "file_extension": ".py",
   "mimetype": "text/x-python",
   "name": "python",
   "nbconvert_exporter": "python",
   "pygments_lexer": "ipython3",
   "version": "3.10.12"
  }
 },
 "nbformat": 4,
 "nbformat_minor": 5
}
