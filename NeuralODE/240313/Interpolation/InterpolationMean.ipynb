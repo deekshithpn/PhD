{
 "cells": [
  {
   "cell_type": "code",
   "execution_count": null,
   "id": "02ace248-7dd5-40a5-8168-e78a279dbad3",
   "metadata": {},
   "outputs": [],
   "source": [
    "import numpy as np\n",
    "import matplotlib.pyplot as plt\n",
    "import scipy.io\n",
    "\n",
    "matrix= scipy.io.loadmat(\"/home/ponnana/PhD/Yinling_copy/data_new.mat\")\n",
    "\n",
    "\n",
    "m = matrix[\"data_new\"][:,0]\n",
    "v =  matrix[\"data_new\"][:,1]\n",
    "s = matrix[\"data_new\"][:,2]\n",
    "k = matrix[\"data_new\"][:,3]\n",
    "\n",
    "tExp = [0.01058, 0.03158, 0.05258, 0.07358, 0.09458, 0.1156, 0.1366, 0.1576, 0.1786, 0.1996, 0.2206,\n",
    "          0.2300, 0.2756, 0.3316, 0.3876, 0.4436, 0.4496, 0.5556, 0.6116, 0.6676, 0.7206, 0.7796, 0.8356,\n",
    "          0.8916, 0.9476, 1.004, 1.060, 1.105, 1.124, 1.153, 1.182, 1.211, 1.240, 1.269, 1.298, 1.327,\n",
    "          1.356, 1.385, 1.414, 1.443, 1.472, 1.501, 1.530, 1.559, 1.588, 1.617, 1.646, 1.670]\n",
    "\n",
    "tExp = np.array(tExp)\n",
    "\n",
    "\n",
    "t1,t2 = 0.24,1.1\n",
    "xExp = np.concatenate((matrix[\"data_new\"], tExp.reshape(-1,1)), axis=1)\n",
    "# xExp = xExp.astype(double)\n",
    "\n",
    "\n",
    "maxValues = np.max(xExp,axis=0)\n",
    "maxValues[-1]=1\n",
    "xExpNormal = xExp/maxValues\n",
    "truncIndex = np.where(xExpNormal[:,1]>=0.0999)\n",
    "xExpTruncNormal = xExpNormal[truncIndex,:]\n",
    "xExpTruncNormal = np.squeeze(xExpTruncNormal)\n",
    "tExpTrunc = xExpTruncNormal[:,-1]\n",
    "\n",
    "\n",
    "import os\n",
    "import argparse\n",
    "import time\n",
    "import numpy as np\n",
    "\n",
    "import torch\n",
    "import torch.nn as nn\n",
    "import torch.optim as optim\n",
    "\n",
    "torch.manual_seed(1000)\n",
    "np.random.seed(1000)\n",
    "\n",
    "parser = argparse.ArgumentParser('ODE demo')\n",
    "parser.add_argument('--method', type=str, choices=['dopri5', 'adams'], default='dopri5')\n",
    "parser.add_argument('--data_size', type=int, default=1000)\n",
    "parser.add_argument('--batch_time', type=int, default=15)\n",
    "parser.add_argument('--batch_size', type=int, default=100)\n",
    "parser.add_argument('--niters', type=int, default=2000)\n",
    "parser.add_argument('--test_freq', type=int, default=20)\n",
    "parser.add_argument('--viz', action='store_true')\n",
    "parser.add_argument('--gpu', type=int, default=0)\n",
    "parser.add_argument('--adjoint', action='store_true')\n",
    "\n",
    "# Parse arguments when running in Jupyter notebook\n",
    "args = parser.parse_args(args=[])\n",
    "\n",
    "if args.adjoint:\n",
    "    from torchdiffeq import odeint_adjoint as odeint\n",
    "else:\n",
    "    from torchdiffeq import odeint\n",
    "\n",
    "device = torch.device('cuda:' + str(args.gpu) if torch.cuda.is_available() else 'cpu')\n",
    "\n",
    "class ODEFuncMean(nn.Module):\n",
    "\n",
    "    def __init__(self):\n",
    "        super(ODEFuncMean, self).__init__()\n",
    "\n",
    "        self.net = nn.Sequential(\n",
    "            nn.Linear(1, 64),\n",
    "            nn.Tanh(),\n",
    "            nn.Linear(64, 64),\n",
    "            nn.Tanh(),\n",
    "            nn.Linear(64, 1)\n",
    "        ).to(torch.float64)\n",
    "\n",
    "        for m in self.net.modules():\n",
    "            if isinstance(m, nn.Linear):\n",
    "                nn.init.normal_(m.weight, mean=0, std=0.1)\n",
    "                nn.init.constant_(m.bias, val=0)\n",
    "\n",
    "    def forward(self, t, y):\n",
    "        return self.net(y)\n",
    "    \n",
    "funcMean = ODEFuncMean().to(device)\n",
    "\n",
    "import numpy as np\n",
    "import torch\n",
    "import torchvision\n",
    "from torch.utils.data.dataset import Dataset\n",
    "from torchvision import datasets, transforms\n",
    "from torch import nn, optim\n",
    "import matplotlib.pyplot as plt\n",
    "\n",
    "# # ################## Part 1: load data and create batch ##################\n",
    "# # Generate data and shuffle\n",
    "# N_total = 600\n",
    "# N_train = 500\n",
    "# x = torch.unsqueeze(torch.linspace(0, 1, N_total), dim=1)\n",
    "# r = torch.randperm(N_total)\n",
    "# x = x[r, :]\n",
    "# y = 0.2 + 0.4 * torch.pow(x, 2) + 0.3 * x * torch.sin(15 * x) + 0.05 * torch.cos(50 * x)\n",
    "\n",
    "# Generate data and shuffle\n",
    "N_total = 43\n",
    "N_train = 43\n",
    "x = torch.unsqueeze(torch.tensor(xExpTruncNormal[:,-1]),dim= 1)\n",
    "y = torch.unsqueeze(torch.tensor(xExpTruncNormal[:,0]),dim= 1)\n",
    "\n",
    "# plt.scatter(x, y)\n",
    "# plt.show()\n",
    "class CustomDataset(Dataset):\n",
    "    def __init__(self, x, y):\n",
    "        self.y = y\n",
    "        self.x = x\n",
    "\n",
    "    def __len__(self):\n",
    "        return len(self.y)\n",
    "\n",
    "    def __getitem__(self, idx):\n",
    "        y1 = self.y[idx]\n",
    "        x1 = self.x[idx]\n",
    "        return (x1, y1)\n",
    "\n",
    "\n",
    "trainset = CustomDataset(x[0:N_train, :], y[0:N_train, :])\n",
    "#testset = CustomDataset(x[N_train:N_total, :], y[N_train:N_total, :])\n",
    "train_loader = torch.utils.data.DataLoader(trainset, batch_size=43)\n",
    "#test_loader = torch.utils.data.DataLoader(testset, batch_size=43)\n",
    "\n",
    "# ################## Part 2: Define Model and initialize ##################\n",
    "# This part need to be changed to define a new model\n",
    "# model = nn.Sequential(nn.Linear(1, 1024, bias=True),\n",
    "#                       nn.ReLU(),\n",
    "#                       # nn.Linear(128, 64, bias=True),\n",
    "#                       # nn.ReLU(),\n",
    "#                       nn.Linear(1024, 1, bias=True)\n",
    "#                       )\n",
    "model = nn.Sequential(\n",
    "    nn.Linear(1, 64),\n",
    "            nn.Tanh(),\n",
    "            nn.Linear(64, 64),\n",
    "            nn.Tanh(),\n",
    "            nn.Linear(64, 1)\n",
    "    ).to(torch.float64)\n",
    "\n",
    "# ############## This part can be changed to different initialization\n",
    "# Initialize as 0\n",
    "\n",
    "# Initialize as uniform [-1, 1]\n",
    "# for p in model.parameters():\n",
    "#     p.data.uniform_(-1, 1)\n",
    "def init_weights(m):\n",
    "    if isinstance(m, nn.Linear):\n",
    "        m.weight.data.uniform_(-1, 1)\n",
    "        m.bias.data.uniform_(-1, 1)\n",
    "\n",
    "# Initialize as normal\n",
    "# m.bias.data.normal_(0, 1)\n",
    "# m.weight.data.normal_(0, 0.03)\n",
    "\n",
    "model.apply(init_weights)\n",
    "\n",
    "# Initialize as normal\n",
    "#\n",
    "# ########################################################################\n",
    "\n",
    "# ################## Part 3: Define Loss and optimizer ##################\n",
    "\n",
    "# ######## This can be changed to different loss function, e.g., L2loss\n",
    "# ######## and different optimization parameter，e.g. regularization, learning rata.\n",
    "criterion = torch.nn.MSELoss()\n",
    "#optimizer = torch.optim.SGD(model.parameters(), lr=0.0001)\n",
    "optimizer = torch.optim.Adam(model.parameters(), lr=0.0005)\n",
    "\n",
    "\n",
    "# ########################################################################\n",
    "\n",
    "\n",
    "# ################## Part 4: Optimization ##################\n",
    "def train_NN():\n",
    "    model.train()\n",
    "    for images, labels in train_loader:\n",
    "        images = images.view(images.shape[0], -1)\n",
    "        out = model(images)\n",
    "        loss = criterion(out, labels)\n",
    "        loss.backward()\n",
    "        optimizer.step()\n",
    "        optimizer.zero_grad()\n",
    "    return loss\n",
    "\n",
    "\n",
    "def test_NN(loader):\n",
    "    model.eval()\n",
    "    loss = 0\n",
    "    for images, labels in loader:\n",
    "        images = images.view(images.shape[0], -1)\n",
    "        out = model(images)\n",
    "        loss += criterion(out, labels)\n",
    "    loss = loss / len(loader)\n",
    "    return loss\n",
    "\n",
    "\n",
    "\n",
    "train_loss = np.array([])\n",
    "# test_loss = np.zeros((N_epoch, 1))\n",
    "loss1 = 10\n",
    "count = 0\n",
    "while loss1>=0.0001:\n",
    "    loss1 = train_NN()\n",
    "    # train_loss[epoch, 0] = test_NN(train_loader)\n",
    "    dummy = test_NN(train_loader)\n",
    "    train_loss= np.append(train_loss,dummy.item())\n",
    "    # test_loss[epoch, 0] = test_NN(test_loader)\n",
    "    print(\n",
    "        f'Epoch: {count:03d}, train loss: {train_loss[count]:.7f}') #, test loss: {test_loss[epoch, 0]:.7f}')\n",
    "    count = count+1\n",
    "\n",
    "x_test = torch.unsqueeze(torch.linspace(0.1156, 1.670, 1999), dim=1).double()\n",
    "y_test = model(x_test)\n",
    "\n",
    "plt.plot(x[0:N_total], y[0:N_total], 'bo')\n",
    "plt.plot(x_test, y_test.detach().numpy(), 'r')\n",
    "plt.show()"
   ]
  },
  {
   "cell_type": "code",
   "execution_count": 1,
   "id": "f5ff8dfd-69d1-450e-8f73-776765643cee",
   "metadata": {},
   "outputs": [
    {
     "data": {
      "text/plain": [
       "'/home/ponnana/PhD/Projects/NeuralODE/240313/Interpolation'"
      ]
     },
     "execution_count": 1,
     "metadata": {},
     "output_type": "execute_result"
    }
   ],
   "source": [
    "pwd"
   ]
  },
  {
   "cell_type": "code",
   "execution_count": 116,
   "id": "f340f5ff-4215-41ac-abc8-41b745528a2c",
   "metadata": {},
   "outputs": [],
   "source": [
    "torch.save(model.state_dict(), 'interpolMean_64_64.pth')"
   ]
  },
  {
   "cell_type": "code",
   "execution_count": 124,
   "id": "704e9a63-2119-49b6-87bc-40581ec226d1",
   "metadata": {},
   "outputs": [
    {
     "data": {
      "image/png": "[encoded data removed]",
      "text/plain": [
       "<Figure size 720x576 with 1 Axes>"
      ]
     },
     "metadata": {
      "needs_background": "light"
     },
     "output_type": "display_data"
    }
   ],
   "source": [
    "fig, ax = plt.subplots(figsize=(10, 8))\n",
    "\n",
    "plt.plot(x[0:N_total], y[0:N_total], 'r*', label='Mean ground truth',markersize= 10)\n",
    "plt.plot(x_test, y_test.detach().numpy(), 'r-', label = 'Mean NN Interpolation')\n",
    "\n",
    "ax.legend()\n",
    "ax.grid(True, linestyle='--', alpha=0.6)\n",
    "\n",
    "# Customize fonts and sizes\n",
    "ax.set_title(\"Interpolation of mean using a NN\", fontsize=18, fontweight='bold')\n",
    "ax.set_xlabel(\"X-axis\", fontsize=14, fontweight='bold')\n",
    "ax.set_ylabel(\"Y-axis\", fontsize=14, fontweight='bold')\n",
    "\n",
    "# Increase tick label font size\n",
    "ax.tick_params(axis='both', labelsize=12)\n",
    "\n",
    "# Customize the appearance of the legend\n",
    "legend = ax.legend(loc='lower right', fontsize=12)\n",
    "legend.get_frame().set_edgecolor('black')\n",
    "ax.set_facecolor('#F4F4F4')\n",
    "\n",
    "plt.savefig('interpolMeanNN.pdf', bbox_inches='tight')\n",
    "\n",
    "# Show the plot\n",
    "plt.show()\n"
   ]
  },
  {
   "cell_type": "code",
   "execution_count": 98,
   "id": "30de253f-cd0d-4942-8839-f19db3aa84cb",
   "metadata": {},
   "outputs": [
    {
     "data": {
      "text/plain": [
       "tensor(0.0002, dtype=torch.float64, grad_fn=<MseLossBackward0>)"
      ]
     },
     "execution_count": 98,
     "metadata": {},
     "output_type": "execute_result"
    }
   ],
   "source": [
    "loss1"
   ]
  },
  {
   "cell_type": "code",
   "execution_count": 71,
   "id": "242d7287-6f9a-455e-a438-328f2575a0e7",
   "metadata": {},
   "outputs": [
    {
     "data": {
      "text/plain": [
       "[<matplotlib.lines.Line2D at 0x7422cd380ca0>]"
      ]
     },
     "execution_count": 71,
     "metadata": {},
     "output_type": "execute_result"
    },
    {
     "data": {
      "image/png": "[encoded data removed]",
      "text/plain": [
       "<Figure size 432x288 with 1 Axes>"
      ]
     },
     "metadata": {
      "needs_background": "light"
     },
     "output_type": "display_data"
    }
   ],
   "source": [
    "plt.plot(xExpTruncNormal[:,-1], xExpTruncNormal[:,0], 'bo')"
   ]
  },
  {
   "cell_type": "code",
   "execution_count": 56,
   "id": "d99b23d4-309f-4386-8111-742623cc375e",
   "metadata": {},
   "outputs": [
    {
     "data": {
      "text/plain": [
       "tensor([[0.0000e+00],\n",
       "        [5.0050e-04],\n",
       "        [1.0010e-03],\n",
       "        ...,\n",
       "        [9.9900e-01],\n",
       "        [9.9950e-01],\n",
       "        [1.0000e+00]])"
      ]
     },
     "execution_count": 56,
     "metadata": {},
     "output_type": "execute_result"
    }
   ],
   "source": [
    "x_test"
   ]
  },
  {
   "cell_type": "code",
   "execution_count": 57,
   "id": "42a2e4dd-c4e3-4dcf-a858-71fff7dc0474",
   "metadata": {},
   "outputs": [
    {
     "ename": "RuntimeError",
     "evalue": "mat1 and mat2 must have the same dtype, but got Float and Double",
     "output_type": "error",
     "traceback": [
      "\u001b[0;31m---------------------------------------------------------------------------\u001b[0m",
      "\u001b[0;31mRuntimeError\u001b[0m                              Traceback (most recent call last)",
      "Cell \u001b[0;32mIn[57], line 2\u001b[0m\n\u001b[1;32m      1\u001b[0m x_test \u001b[38;5;241m=\u001b[39m torch\u001b[38;5;241m.\u001b[39munsqueeze(torch\u001b[38;5;241m.\u001b[39mlinspace(\u001b[38;5;241m0\u001b[39m, \u001b[38;5;241m1.67\u001b[39m, \u001b[38;5;241m1000\u001b[39m), dim\u001b[38;5;241m=\u001b[39m\u001b[38;5;241m1\u001b[39m)\n\u001b[0;32m----> 2\u001b[0m y_test \u001b[38;5;241m=\u001b[39m \u001b[43mmodel\u001b[49m\u001b[43m(\u001b[49m\u001b[43mx_test\u001b[49m\u001b[43m)\u001b[49m\n\u001b[1;32m      4\u001b[0m plt\u001b[38;5;241m.\u001b[39mplot(x[\u001b[38;5;241m0\u001b[39m:N_total], y[\u001b[38;5;241m0\u001b[39m:N_total], \u001b[38;5;124m'\u001b[39m\u001b[38;5;124mbo\u001b[39m\u001b[38;5;124m'\u001b[39m)\n\u001b[1;32m      5\u001b[0m plt\u001b[38;5;241m.\u001b[39mplot(x_test, y_test\u001b[38;5;241m.\u001b[39mdetach()\u001b[38;5;241m.\u001b[39mnumpy(), \u001b[38;5;124m'\u001b[39m\u001b[38;5;124mr\u001b[39m\u001b[38;5;124m'\u001b[39m)\n",
      "File \u001b[0;32m~/.local/lib/python3.10/site-packages/torch/nn/modules/module.py:1511\u001b[0m, in \u001b[0;36mModule._wrapped_call_impl\u001b[0;34m(self, *args, **kwargs)\u001b[0m\n\u001b[1;32m   1509\u001b[0m     \u001b[38;5;28;01mreturn\u001b[39;00m \u001b[38;5;28mself\u001b[39m\u001b[38;5;241m.\u001b[39m_compiled_call_impl(\u001b[38;5;241m*\u001b[39margs, \u001b[38;5;241m*\u001b[39m\u001b[38;5;241m*\u001b[39mkwargs)  \u001b[38;5;66;03m# type: ignore[misc]\u001b[39;00m\n\u001b[1;32m   1510\u001b[0m \u001b[38;5;28;01melse\u001b[39;00m:\n\u001b[0;32m-> 1511\u001b[0m     \u001b[38;5;28;01mreturn\u001b[39;00m \u001b[38;5;28;43mself\u001b[39;49m\u001b[38;5;241;43m.\u001b[39;49m\u001b[43m_call_impl\u001b[49m\u001b[43m(\u001b[49m\u001b[38;5;241;43m*\u001b[39;49m\u001b[43margs\u001b[49m\u001b[43m,\u001b[49m\u001b[43m \u001b[49m\u001b[38;5;241;43m*\u001b[39;49m\u001b[38;5;241;43m*\u001b[39;49m\u001b[43mkwargs\u001b[49m\u001b[43m)\u001b[49m\n",
      "File \u001b[0;32m~/.local/lib/python3.10/site-packages/torch/nn/modules/module.py:1520\u001b[0m, in \u001b[0;36mModule._call_impl\u001b[0;34m(self, *args, **kwargs)\u001b[0m\n\u001b[1;32m   1515\u001b[0m \u001b[38;5;66;03m# If we don't have any hooks, we want to skip the rest of the logic in\u001b[39;00m\n\u001b[1;32m   1516\u001b[0m \u001b[38;5;66;03m# this function, and just call forward.\u001b[39;00m\n\u001b[1;32m   1517\u001b[0m \u001b[38;5;28;01mif\u001b[39;00m \u001b[38;5;129;01mnot\u001b[39;00m (\u001b[38;5;28mself\u001b[39m\u001b[38;5;241m.\u001b[39m_backward_hooks \u001b[38;5;129;01mor\u001b[39;00m \u001b[38;5;28mself\u001b[39m\u001b[38;5;241m.\u001b[39m_backward_pre_hooks \u001b[38;5;129;01mor\u001b[39;00m \u001b[38;5;28mself\u001b[39m\u001b[38;5;241m.\u001b[39m_forward_hooks \u001b[38;5;129;01mor\u001b[39;00m \u001b[38;5;28mself\u001b[39m\u001b[38;5;241m.\u001b[39m_forward_pre_hooks\n\u001b[1;32m   1518\u001b[0m         \u001b[38;5;129;01mor\u001b[39;00m _global_backward_pre_hooks \u001b[38;5;129;01mor\u001b[39;00m _global_backward_hooks\n\u001b[1;32m   1519\u001b[0m         \u001b[38;5;129;01mor\u001b[39;00m _global_forward_hooks \u001b[38;5;129;01mor\u001b[39;00m _global_forward_pre_hooks):\n\u001b[0;32m-> 1520\u001b[0m     \u001b[38;5;28;01mreturn\u001b[39;00m \u001b[43mforward_call\u001b[49m\u001b[43m(\u001b[49m\u001b[38;5;241;43m*\u001b[39;49m\u001b[43margs\u001b[49m\u001b[43m,\u001b[49m\u001b[43m \u001b[49m\u001b[38;5;241;43m*\u001b[39;49m\u001b[38;5;241;43m*\u001b[39;49m\u001b[43mkwargs\u001b[49m\u001b[43m)\u001b[49m\n\u001b[1;32m   1522\u001b[0m \u001b[38;5;28;01mtry\u001b[39;00m:\n\u001b[1;32m   1523\u001b[0m     result \u001b[38;5;241m=\u001b[39m \u001b[38;5;28;01mNone\u001b[39;00m\n",
      "File \u001b[0;32m~/.local/lib/python3.10/site-packages/torch/nn/modules/container.py:217\u001b[0m, in \u001b[0;36mSequential.forward\u001b[0;34m(self, input)\u001b[0m\n\u001b[1;32m    215\u001b[0m \u001b[38;5;28;01mdef\u001b[39;00m \u001b[38;5;21mforward\u001b[39m(\u001b[38;5;28mself\u001b[39m, \u001b[38;5;28minput\u001b[39m):\n\u001b[1;32m    216\u001b[0m     \u001b[38;5;28;01mfor\u001b[39;00m module \u001b[38;5;129;01min\u001b[39;00m \u001b[38;5;28mself\u001b[39m:\n\u001b[0;32m--> 217\u001b[0m         \u001b[38;5;28minput\u001b[39m \u001b[38;5;241m=\u001b[39m \u001b[43mmodule\u001b[49m\u001b[43m(\u001b[49m\u001b[38;5;28;43minput\u001b[39;49m\u001b[43m)\u001b[49m\n\u001b[1;32m    218\u001b[0m     \u001b[38;5;28;01mreturn\u001b[39;00m \u001b[38;5;28minput\u001b[39m\n",
      "File \u001b[0;32m~/.local/lib/python3.10/site-packages/torch/nn/modules/module.py:1511\u001b[0m, in \u001b[0;36mModule._wrapped_call_impl\u001b[0;34m(self, *args, **kwargs)\u001b[0m\n\u001b[1;32m   1509\u001b[0m     \u001b[38;5;28;01mreturn\u001b[39;00m \u001b[38;5;28mself\u001b[39m\u001b[38;5;241m.\u001b[39m_compiled_call_impl(\u001b[38;5;241m*\u001b[39margs, \u001b[38;5;241m*\u001b[39m\u001b[38;5;241m*\u001b[39mkwargs)  \u001b[38;5;66;03m# type: ignore[misc]\u001b[39;00m\n\u001b[1;32m   1510\u001b[0m \u001b[38;5;28;01melse\u001b[39;00m:\n\u001b[0;32m-> 1511\u001b[0m     \u001b[38;5;28;01mreturn\u001b[39;00m \u001b[38;5;28;43mself\u001b[39;49m\u001b[38;5;241;43m.\u001b[39;49m\u001b[43m_call_impl\u001b[49m\u001b[43m(\u001b[49m\u001b[38;5;241;43m*\u001b[39;49m\u001b[43margs\u001b[49m\u001b[43m,\u001b[49m\u001b[43m \u001b[49m\u001b[38;5;241;43m*\u001b[39;49m\u001b[38;5;241;43m*\u001b[39;49m\u001b[43mkwargs\u001b[49m\u001b[43m)\u001b[49m\n",
      "File \u001b[0;32m~/.local/lib/python3.10/site-packages/torch/nn/modules/module.py:1520\u001b[0m, in \u001b[0;36mModule._call_impl\u001b[0;34m(self, *args, **kwargs)\u001b[0m\n\u001b[1;32m   1515\u001b[0m \u001b[38;5;66;03m# If we don't have any hooks, we want to skip the rest of the logic in\u001b[39;00m\n\u001b[1;32m   1516\u001b[0m \u001b[38;5;66;03m# this function, and just call forward.\u001b[39;00m\n\u001b[1;32m   1517\u001b[0m \u001b[38;5;28;01mif\u001b[39;00m \u001b[38;5;129;01mnot\u001b[39;00m (\u001b[38;5;28mself\u001b[39m\u001b[38;5;241m.\u001b[39m_backward_hooks \u001b[38;5;129;01mor\u001b[39;00m \u001b[38;5;28mself\u001b[39m\u001b[38;5;241m.\u001b[39m_backward_pre_hooks \u001b[38;5;129;01mor\u001b[39;00m \u001b[38;5;28mself\u001b[39m\u001b[38;5;241m.\u001b[39m_forward_hooks \u001b[38;5;129;01mor\u001b[39;00m \u001b[38;5;28mself\u001b[39m\u001b[38;5;241m.\u001b[39m_forward_pre_hooks\n\u001b[1;32m   1518\u001b[0m         \u001b[38;5;129;01mor\u001b[39;00m _global_backward_pre_hooks \u001b[38;5;129;01mor\u001b[39;00m _global_backward_hooks\n\u001b[1;32m   1519\u001b[0m         \u001b[38;5;129;01mor\u001b[39;00m _global_forward_hooks \u001b[38;5;129;01mor\u001b[39;00m _global_forward_pre_hooks):\n\u001b[0;32m-> 1520\u001b[0m     \u001b[38;5;28;01mreturn\u001b[39;00m \u001b[43mforward_call\u001b[49m\u001b[43m(\u001b[49m\u001b[38;5;241;43m*\u001b[39;49m\u001b[43margs\u001b[49m\u001b[43m,\u001b[49m\u001b[43m \u001b[49m\u001b[38;5;241;43m*\u001b[39;49m\u001b[38;5;241;43m*\u001b[39;49m\u001b[43mkwargs\u001b[49m\u001b[43m)\u001b[49m\n\u001b[1;32m   1522\u001b[0m \u001b[38;5;28;01mtry\u001b[39;00m:\n\u001b[1;32m   1523\u001b[0m     result \u001b[38;5;241m=\u001b[39m \u001b[38;5;28;01mNone\u001b[39;00m\n",
      "File \u001b[0;32m~/.local/lib/python3.10/site-packages/torch/nn/modules/linear.py:116\u001b[0m, in \u001b[0;36mLinear.forward\u001b[0;34m(self, input)\u001b[0m\n\u001b[1;32m    115\u001b[0m \u001b[38;5;28;01mdef\u001b[39;00m \u001b[38;5;21mforward\u001b[39m(\u001b[38;5;28mself\u001b[39m, \u001b[38;5;28minput\u001b[39m: Tensor) \u001b[38;5;241m-\u001b[39m\u001b[38;5;241m>\u001b[39m Tensor:\n\u001b[0;32m--> 116\u001b[0m     \u001b[38;5;28;01mreturn\u001b[39;00m \u001b[43mF\u001b[49m\u001b[38;5;241;43m.\u001b[39;49m\u001b[43mlinear\u001b[49m\u001b[43m(\u001b[49m\u001b[38;5;28;43minput\u001b[39;49m\u001b[43m,\u001b[49m\u001b[43m \u001b[49m\u001b[38;5;28;43mself\u001b[39;49m\u001b[38;5;241;43m.\u001b[39;49m\u001b[43mweight\u001b[49m\u001b[43m,\u001b[49m\u001b[43m \u001b[49m\u001b[38;5;28;43mself\u001b[39;49m\u001b[38;5;241;43m.\u001b[39;49m\u001b[43mbias\u001b[49m\u001b[43m)\u001b[49m\n",
      "\u001b[0;31mRuntimeError\u001b[0m: mat1 and mat2 must have the same dtype, but got Float and Double"
     ]
    }
   ],
   "source": [
    "x_test = torch.unsqueeze(torch.linspace(0, 1.67, 1000), dim=1)\n",
    "y_test = model(x_test)\n",
    "\n",
    "plt.plot(x[0:N_total], y[0:N_total], 'bo')\n",
    "plt.plot(x_test, y_test.detach().numpy(), 'r')\n",
    "plt.show()"
   ]
  }
 ],
 "metadata": {
  "kernelspec": {
   "display_name": "Python 3 (ipykernel)",
   "language": "python",
   "name": "python3"
  },
  "language_info": {
   "codemirror_mode": {
    "name": "ipython",
    "version": 3
   },
   "file_extension": ".py",
   "mimetype": "text/x-python",
   "name": "python",
   "nbconvert_exporter": "python",
   "pygments_lexer": "ipython3",
   "version": "3.10.12"
  }
 },
 "nbformat": 4,
 "nbformat_minor": 5
}
