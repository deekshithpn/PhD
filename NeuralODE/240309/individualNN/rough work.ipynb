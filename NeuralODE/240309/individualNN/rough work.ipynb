{
 "cells": [
  {
   "cell_type": "code",
   "execution_count": 1,
   "id": "bf15338b-1622-463e-b1f2-739d90cb1938",
   "metadata": {},
   "outputs": [
    {
     "name": "stdout",
     "output_type": "stream",
     "text": [
      "\n",
      "PyTorch permuted tensor:\n",
      "tensor([[[[ 7.5596, -1.0200,  1.4082],\n",
      "          [ 7.5676, -1.0129,  1.4164],\n",
      "          [ 7.5756, -1.0058,  1.4245]]]])\n"
     ]
    }
   ],
   "source": [
    "import os\n",
    "import argparse\n",
    "import time\n",
    "import numpy as np\n",
    "\n",
    "import torch\n",
    "import torch.nn as nn\n",
    "import torch.optim as optim\n",
    "var = [[[[7.5596, -1.0200, 1.4082]],\n",
    "        [[7.5676, -1.0129, 1.4164]],\n",
    "        [[7.5756, -1.0058, 1.4245]]]]\n",
    "\n",
    "# Convert to PyTorch tensor\n",
    "torch_tensor = torch.tensor(var)\n",
    "\n",
    "# Permute the dimensions\n",
    "permuted_torch_tensor = torch_tensor.permute(0, 2, 1, 3)\n",
    "print(\"\\nPyTorch permuted tensor:\")\n",
    "print(permuted_torch_tensor)"
   ]
  },
  {
   "cell_type": "code",
   "execution_count": null,
   "id": "2ce2f05f-0a0e-41c2-8cf4-3588a42098a6",
   "metadata": {},
   "outputs": [],
   "source": []
  }
 ],
 "metadata": {
  "kernelspec": {
   "display_name": "Python 3 (ipykernel)",
   "language": "python",
   "name": "python3"
  },
  "language_info": {
   "codemirror_mode": {
    "name": "ipython",
    "version": 3
   },
   "file_extension": ".py",
   "mimetype": "text/x-python",
   "name": "python",
   "nbconvert_exporter": "python",
   "pygments_lexer": "ipython3",
   "version": "3.10.12"
  }
 },
 "nbformat": 4,
 "nbformat_minor": 5
}
