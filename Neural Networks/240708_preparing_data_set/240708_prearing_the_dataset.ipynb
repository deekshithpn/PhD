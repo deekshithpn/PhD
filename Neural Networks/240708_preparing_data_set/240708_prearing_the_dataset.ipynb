{
 "cells": [
  {
   "cell_type": "markdown",
   "id": "00f0b845",
   "metadata": {},
   "source": [
    "# Preparing the data set\n",
    "## AIM:\n",
    "- We wish to make a dataset for the neural network to learn.\n",
    "- In the dataset we will be having a trinng data set and another validation data set."
   ]
  },
  {
   "cell_type": "code",
   "execution_count": 33,
   "id": "07067706",
   "metadata": {},
   "outputs": [
    {
     "name": "stdout",
     "output_type": "stream",
     "text": [
      "tensor([[0.6000],\n",
      "        [0.5000]]):tensor([[0.3388],\n",
      "        [0.2397]])\n",
      "tensor([[1.],\n",
      "        [0.]]):tensor([[0.8415],\n",
      "        [0.0000]])\n",
      "tensor([[0.1000],\n",
      "        [0.8000]]):tensor([[0.0100],\n",
      "        [0.5739]])\n",
      "tensor([[0.7000],\n",
      "        [0.9000]]):tensor([[0.4510],\n",
      "        [0.7050]])\n",
      "tensor([[0.2000],\n",
      "        [0.4000]]):tensor([[0.0397],\n",
      "        [0.1558]])\n"
     ]
    }
   ],
   "source": [
    "# Requied libraries\n",
    "import numpy as np\n",
    "import torch\n",
    "from torch.utils.data import Dataset,DataLoader\n",
    "\n",
    "# One dimensional function\n",
    "def myfunc(x):\n",
    "    y = x * torch.sin(x)\n",
    "    return y\n",
    "\n",
    "# decide the x domain\n",
    "xll = 0\n",
    "xul = 1\n",
    "\n",
    "# decide the number of training data\n",
    "n_total = 11\n",
    "n_train = 10\n",
    "n_valid = n_total-n_train\n",
    "\n",
    "# x and y values\n",
    "x_values = torch.unsqueeze(torch.tensor(np.linspace(xll,xul,n_total),dtype=torch.float32),1)\n",
    "y_values = myfunc(x_values)\n",
    "\n",
    "# Defining training and validation indices\n",
    "randomize_index = torch.randperm(n_total)\n",
    "train_index = randomize_index[:n_train]\n",
    "valid_index = randomize_index[n_train:n_total]\n",
    "\n",
    "# Definig training data\n",
    "x_train = x_values[train_index]\n",
    "y_train = y_values[train_index]\n",
    "\n",
    "# Defining validation data\n",
    "x_valid = x_values[valid_index]\n",
    "y_valid = y_values[valid_index]\n",
    "\n",
    "# Defining CustomDataset class\n",
    "class CustomDataset(Dataset):\n",
    "    def __init__(self,x,y):\n",
    "        self.x = x\n",
    "        self.y = y\n",
    "    def __len__(self):\n",
    "        return len(self.x)\n",
    "    def __getitem__(self,index):\n",
    "        x_index = self.x[index]\n",
    "        y_index = self.y[index]\n",
    "        return (x_index,y_index)\n",
    "\n",
    "# training data set\n",
    "data_train = CustomDataset(x_train,y_train)\n",
    "\n",
    "# Using data-loader\n",
    "dataloader_train = DataLoader(data_train, batch_size=2)\n",
    "for inputs,outputs in dataloader_train:\n",
    "    print(f\"{inputs}:{outputs}\")\n"
   ]
  },
  {
   "cell_type": "code",
   "execution_count": null,
   "id": "3b7f1279",
   "metadata": {},
   "outputs": [],
   "source": []
  }
 ],
 "metadata": {
  "kernelspec": {
   "display_name": "Python 3 (ipykernel)",
   "language": "python",
   "name": "python3"
  },
  "language_info": {
   "codemirror_mode": {
    "name": "ipython",
    "version": 3
   },
   "file_extension": ".py",
   "mimetype": "text/x-python",
   "name": "python",
   "nbconvert_exporter": "python",
   "pygments_lexer": "ipython3",
   "version": "3.10.6"
  }
 },
 "nbformat": 4,
 "nbformat_minor": 5
}
