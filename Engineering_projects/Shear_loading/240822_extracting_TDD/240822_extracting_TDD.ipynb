{
 "cells": [
  {
   "cell_type": "markdown",
   "id": "a9d8d414",
   "metadata": {},
   "source": [
    "# Extacting TDD from text file.\n",
    "\n",
    "Our text files have first 3 columns as Euler Angles and the last column as TDD.\n",
    "Here we will seperate the TDD into a numpy file and save it in our one drive. at \"/Users/Jayee/Library/CloudStorage/OneDrive-UW-Madison/PhD(Data)/shear_data/tdd_data/tdd_700/tdd\"\n"
   ]
  },
  {
   "cell_type": "code",
   "execution_count": 1,
   "id": "952de320",
   "metadata": {},
   "outputs": [],
   "source": [
    "file_number_list = [700,800,801,802]\n",
    "quantities = ['e1','e2','e3','tdd']\n"
   ]
  },
  {
   "cell_type": "code",
   "execution_count": 2,
   "id": "119b62c8",
   "metadata": {},
   "outputs": [
    {
     "name": "stdout",
     "output_type": "stream",
     "text": [
      "Step-1.txt processing complete\n",
      "Step-2.txt processing complete\n",
      "Step-3.txt processing complete\n",
      "Step-4.txt processing complete\n",
      "Step-5.txt processing complete\n",
      "Step-6.txt processing complete\n",
      "Step-7.txt processing complete\n",
      "Step-8.txt processing complete\n",
      "Step-9.txt processing complete\n",
      "Step-10.txt processing complete\n",
      "Step-11.txt processing complete\n",
      "Step-1.txt processing complete\n",
      "Step-2.txt processing complete\n",
      "Step-3.txt processing complete\n",
      "Step-4.txt processing complete\n",
      "Step-5.txt processing complete\n",
      "Step-6.txt processing complete\n",
      "Step-7.txt processing complete\n",
      "Step-8.txt processing complete\n",
      "Step-9.txt processing complete\n",
      "Step-10.txt processing complete\n",
      "Step-11.txt processing complete\n",
      "Step-1.txt processing complete\n",
      "Step-2.txt processing complete\n",
      "Step-3.txt processing complete\n",
      "Step-4.txt processing complete\n",
      "Step-5.txt processing complete\n",
      "Step-6.txt processing complete\n",
      "Step-7.txt processing complete\n",
      "Step-8.txt processing complete\n",
      "Step-9.txt processing complete\n",
      "Step-10.txt processing complete\n",
      "Step-11.txt processing complete\n",
      "Step-1.txt processing complete\n",
      "Step-2.txt processing complete\n",
      "Step-3.txt processing complete\n",
      "Step-4.txt processing complete\n",
      "Step-5.txt processing complete\n",
      "Step-6.txt processing complete\n",
      "Step-7.txt processing complete\n",
      "Step-8.txt processing complete\n",
      "Step-9.txt processing complete\n",
      "Step-10.txt processing complete\n",
      "Step-11.txt processing complete\n"
     ]
    }
   ],
   "source": [
    "# importing necessary libraries\n",
    "import numpy as np\n",
    "import os\n",
    "\n",
    "# input file location\n",
    "input_folder = f\"/Volumes/Extreme SSD/misori_tdd/700\"\n",
    "\n",
    "for file_number in file_number_list:\n",
    "    # Access text file corresponding to each step\n",
    "    ## get the steps in the input folder.\n",
    "    for file in os.listdir(input_folder)[1:]:\n",
    "        file_loc = os.path.join(input_folder,file)\n",
    "        e1_list,e2_list,e3_list,tdd_list=[[] for i in range(4)]\n",
    "        with open(file_loc,'r') as doc:\n",
    "            for line in doc:\n",
    "                e1,e2,e3,tdd = line.split()\n",
    "                # preparing list of float values\n",
    "                e1_list.append(float(e1))\n",
    "                e2_list.append(float(e2))\n",
    "                e3_list.append(float(e3))\n",
    "                tdd_list.append(float(tdd))\n",
    "            # converting list to array\n",
    "            all_arrays = [np.array(e1_list),np.array(e2_list),np.array(e3_list),np.array(tdd_list)]\n",
    "            for _,quantity in enumerate(quantities):\n",
    "                output_folder_loc = f\"/Volumes/Extreme SSD/mac_data/shear_data/\\\n",
    "{quantity}_data/{file_number}/{quantity}\"\n",
    "                output_file_loc = os.path.join(output_folder_loc,file[:-4])\n",
    "                np.save(output_file_loc,all_arrays[_])\n",
    "                \n",
    "        print(f\"{file} processing complete\")"
   ]
  }
 ],
 "metadata": {
  "kernelspec": {
   "display_name": "Python 3 (ipykernel)",
   "language": "python",
   "name": "python3"
  },
  "language_info": {
   "codemirror_mode": {
    "name": "ipython",
    "version": 3
   },
   "file_extension": ".py",
   "mimetype": "text/x-python",
   "name": "python",
   "nbconvert_exporter": "python",
   "pygments_lexer": "ipython3",
   "version": "3.10.6"
  }
 },
 "nbformat": 4,
 "nbformat_minor": 5
}
