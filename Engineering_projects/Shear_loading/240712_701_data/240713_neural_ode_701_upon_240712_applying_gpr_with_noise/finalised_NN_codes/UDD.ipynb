{
 "cells": [
  {
   "cell_type": "markdown",
   "id": "cde3b3ab",
   "metadata": {},
   "source": [
    "# Uniform Distance data\n",
    "\n",
    "## Done so far \n",
    "1. We have the shear data at 11 different points.\n",
    "2. These 11 points have been interpolated using GPR. These GPR models are obtained by running the code in \n",
    "    - /Users/Jayee/Desktop/PhD/Engineering_projects/Shear_loading/240712_701_data/240712_applying_GPR_with_noise\n",
    "3. The corresponding data file containing the models, the necessary info for the plots is saved in \n",
    "    - /Users/Jayee/Library/CloudStorage/OneDrive-UW-Madison/PhD(my_PC)/PhD(output_files)/Engineering_projects/Shear_loading/240712_701_data/240712_applying_GPR_with_noise/important_variables.pkl\n",
    "\n",
    "## Plan after that:\n",
    "1. Before beginning to train our NN we would like to collect data at uniform distance in the t,m,v,s,k space.\n",
    "2. This takes some time to generate the data. \n",
    "3. We save this data into imp_vars again and save it in the above location."
   ]
  },
  {
   "cell_type": "code",
   "execution_count": 122,
   "id": "826b853d",
   "metadata": {},
   "outputs": [],
   "source": [
    "def give_me_data(imp_vars,n_UD):\n",
    "    # Definint the numpber of points when uniformly spaced in time.\n",
    "    n_UT =100000\n",
    "    t = np.linspace(0,1,n_UT)\n",
    "    dt = t[1]-t[0]\n",
    "    length = give_me_length(imp_vars, n_UT)\n",
    "    dx = length/(n_UD-1)\n",
    "    data = []\n",
    "    dist = 0\n",
    "    x_old = give_me_point(imp_vars,0)\n",
    "    for _ in t:\n",
    "        x_new = give_me_point(imp_vars,_)\n",
    "        dist = dist + np.linalg.norm(x_new-x_old)\n",
    "        if (dx<dist):\n",
    "            data.append(x_old)\n",
    "            print(dist)\n",
    "            dist = 0\n",
    "        x_old = give_me_point(imp_vars,_)\n",
    "    print(\"+\")\n",
    "    return np.array(data)\n",
    "\n",
    "\n",
    "# give_me_length gives the length of the trajectory from t = 0 to 1.\n",
    "def give_me_length(imp_vars,n_UT):\n",
    "    t = np.linspace(0,1,n_UT)\n",
    "    dist = 0\n",
    "    x_old = give_me_point(imp_vars,0)\n",
    "    for _ in t:\n",
    "        x_new = give_me_point(imp_vars,_)\n",
    "        dist = dist + np.linalg.norm(x_new-x_old)\n",
    "        x_old = give_me_point(imp_vars,_)\n",
    "    return dist\n",
    "\n",
    "# given some time give_me_point gives the co-ordinates of the point at that time.\n",
    "def give_me_point(imp_vars,time):\n",
    "    [m,v,s,k] = [imp_vars[\"model\"][_].predict(np.array(time).reshape(-1,1)) for _ in range(4)]\n",
    "    t = time\n",
    "    return np.hstack([t,m,v,s,k])"
   ]
  },
  {
   "cell_type": "code",
   "execution_count": null,
   "id": "bd5e86eb",
   "metadata": {},
   "outputs": [],
   "source": [
    "give_me_data(imp_vars,1000)"
   ]
  }
 ],
 "metadata": {
  "kernelspec": {
   "display_name": "Python 3 (ipykernel)",
   "language": "python",
   "name": "python3"
  },
  "language_info": {
   "codemirror_mode": {
    "name": "ipython",
    "version": 3
   },
   "file_extension": ".py",
   "mimetype": "text/x-python",
   "name": "python",
   "nbconvert_exporter": "python",
   "pygments_lexer": "ipython3",
   "version": "3.10.6"
  }
 },
 "nbformat": 4,
 "nbformat_minor": 5
}
