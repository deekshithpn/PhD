{
 "cells": [
  {
   "cell_type": "markdown",
   "id": "a1de7a3e",
   "metadata": {},
   "source": [
    "# Objective:\n",
    "- we are given text files present in the hard disk.\n",
    "- Each text file has 8 million gauss quadrature points. \n",
    "- corresponding to each text file (each step) we want to create a numpy array containing vm-stress corresponding to each gauss quadrature point."
   ]
  },
  {
   "cell_type": "code",
   "execution_count": 21,
   "id": "b27b91b6",
   "metadata": {},
   "outputs": [],
   "source": [
    "save_fold_location = \"/Users/Jayee/Library/CloudStorage/OneDrive-UW-Madison/PhD(Data)/shear_data/vm_data/vm_800/vm_stress\"\n",
    "save_file_number = 800"
   ]
  },
  {
   "cell_type": "markdown",
   "id": "4505ec57",
   "metadata": {},
   "source": [
    "# Vonmisses stress\n",
    "The von mises stess is give by the following equation:\n",
    "$$ \\sqrt{\n",
    "        \\frac{\n",
    "            (s_{11}-s_{22})^2\n",
    "            + (s_{22}-s_{33})^2\n",
    "            + (s_{33}-s_{11})^2\n",
    "            + 6(s_{12}^2 + s_{23}^2 + s_{31}^2)\n",
    "            }\n",
    "            {2}\n",
    "         }\n",
    "         $$\n",
    "\n",
    "I am going to read the data from the text file because we can read line by line.\n",
    "- The columns in the text file are as follows.\n",
    "- temp|S11|S22|S33|S12|S13|S23|\n",
    "- Therefore let us process it line by line"
   ]
  },
  {
   "cell_type": "markdown",
   "id": "46a12445",
   "metadata": {},
   "source": [
    "## A function to compute the VM_stress"
   ]
  },
  {
   "cell_type": "code",
   "execution_count": 22,
   "id": "e809da5d",
   "metadata": {},
   "outputs": [],
   "source": [
    "import numpy as np\n",
    "\n",
    "def vmstress(line):\n",
    "    # removing the \\n from the line\n",
    "    # converting the line to a list of words\n",
    "    line = line.strip().split()\n",
    "    \n",
    "    #deleting the temperature term\n",
    "    del line[0]\n",
    "    \n",
    "    # convert each element to a floating point value\n",
    "    s11 = float(line[0])\n",
    "    s22 = float(line[1])\n",
    "    s33 = float(line[2])\n",
    "    s12 = float(line[3])\n",
    "    s13 = float(line[4])\n",
    "    s23 = float(line[5])\n",
    "    \n",
    "    # calculating the Von Mises stress\n",
    "    part_1 = (s11 - s22)**2+(s22-s33)**2+(s33-s11)**2\n",
    "    part_2 = 6*(s12**2 +s23**2 + s13**2)\n",
    "    scalar_stress = np.sqrt((part_1 + part_2)/2)\n",
    "    return scalar_stress"
   ]
  },
  {
   "cell_type": "markdown",
   "id": "c905968d",
   "metadata": {},
   "source": [
    "## Getting the list of text files"
   ]
  },
  {
   "cell_type": "code",
   "execution_count": 23,
   "id": "27e8aab3",
   "metadata": {},
   "outputs": [
    {
     "name": "stdout",
     "output_type": "stream",
     "text": [
      "['Step-1.txt', 'Step-2.txt', 'Step-3.txt', 'Step-4.txt', 'Step-5.txt', 'Step-6.txt', 'Step-7.txt', 'Step-8.txt', 'Step-9.txt', 'Step-10.txt', 'Step-11.txt']\n"
     ]
    }
   ],
   "source": [
    "# Given the folder I want the list of all the .txt files listed.\n",
    "import os\n",
    "\n",
    "folder_path = \"/Volumes/Extreme SSD/stress_temp/800\"\n",
    "# getting all the contents in the folder\n",
    "contents = os.listdir(folder_path)\n",
    "\n",
    "file_names = [content for content in contents if content.endswith(\".txt\")]\n",
    "#del file_names[-1]\n",
    "file_times = [os.path.getmtime(os.path.join(folder_path,file_name)) for file_name in file_names]\n",
    "sorted_list = sorted(zip(file_times,file_names))\n",
    "sorted_file_names = [__ for _,__ in sorted_list]\n",
    "file_names = sorted_file_names\n",
    "print(file_names)"
   ]
  },
  {
   "cell_type": "markdown",
   "id": "f2f63305",
   "metadata": {},
   "source": [
    "## Reading each line and computing VM_stress"
   ]
  },
  {
   "cell_type": "code",
   "execution_count": 24,
   "id": "5cdca176",
   "metadata": {},
   "outputs": [
    {
     "name": "stdout",
     "output_type": "stream",
     "text": [
      "8000000 , 0\n",
      "8000000 , 1\n",
      "8000000 , 2\n",
      "8000000 , 3\n",
      "8000000 , 4\n",
      "8000000 , 5\n",
      "8000000 , 6\n",
      "8000000 , 7\n",
      "8000000 , 8\n",
      "8000000 , 9\n",
      "8000000 , 10\n",
      "Von_mises stresses computed successfully\n"
     ]
    }
   ],
   "source": [
    "for _,file_name in enumerate(file_names):\n",
    "    # create a file object with read access\n",
    "    file_path = os.path.join(folder_path,file_name)\n",
    "    file_object = open(file_path,'r')\n",
    "    \n",
    "    # read each line in the file using the file object\n",
    "    scalar_stress = np.zeros([8000001])\n",
    "    count = 0\n",
    "    line = file_object.readline()\n",
    "    while line !='':\n",
    "        scalar_stress[count] = vmstress(line)\n",
    "        count = count+1\n",
    "        line = file_object.readline()\n",
    "    print(count,\",\",_)\n",
    "    \n",
    "    \n",
    "    save_file_name = f\"vm_{save_file_number}_{_+1:03}.npy\"\n",
    "    save_file_loc = os.path.join(save_fold_location,save_file_name)\n",
    "    np.save(save_file_loc,scalar_stress)\n",
    "    \n",
    "print(\"Von_mises stresses computed successfully\")"
   ]
  },
  {
   "cell_type": "code",
   "execution_count": null,
   "id": "5c7ae2c1",
   "metadata": {},
   "outputs": [],
   "source": []
  }
 ],
 "metadata": {
  "kernelspec": {
   "display_name": "Python 3 (ipykernel)",
   "language": "python",
   "name": "python3"
  },
  "language_info": {
   "codemirror_mode": {
    "name": "ipython",
    "version": 3
   },
   "file_extension": ".py",
   "mimetype": "text/x-python",
   "name": "python",
   "nbconvert_exporter": "python",
   "pygments_lexer": "ipython3",
   "version": "3.10.6"
  }
 },
 "nbformat": 4,
 "nbformat_minor": 5
}
