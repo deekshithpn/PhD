{
 "cells": [
  {
   "cell_type": "code",
   "execution_count": 1,
   "id": "f213a6c0",
   "metadata": {},
   "outputs": [],
   "source": [
    "import os\n",
    "output_folder = f\"/Users/Jayee/Library/CloudStorage/OneDrive-UW-Madison/PhD(Data)\\\n",
    "/shear_data/vm_data/vm_800/moments_vm_stress\""
   ]
  },
  {
   "cell_type": "markdown",
   "id": "ae8eb545",
   "metadata": {},
   "source": [
    "# Test My understanding about moments.\n",
    "- First let us know if the moment formulae I know are same as what are being used in python.\n",
    "- For this we will first generate some random data and calculate the moments in the way I know.\n",
    "- Later I want to test if my understanding of moments is same as the pythons convention\n",
    "\n",
    "## My definition of moments:\n",
    "Let us say we have $X_1, X_2,X_3, ...,X_N$ data.\n",
    "\n",
    "### Mean:\n",
    "$$\\mu = \\frac{1}{N}\\Sigma(X_k)$$\n",
    "\n",
    "### Variance (or) second central moment:\n",
    "$$ var = \\frac{1}{N}\\Sigma(X_i - \\mu)^2$$\n",
    "\n",
    "### Standard Deviation:\n",
    "$$std = \\sqrt{var}$$\n",
    "\n",
    "### Kth Central Moment\n",
    "$$ M_k = \\frac{1}{N}\\Sigma(X_i - \\mu)^k $$\n",
    "\n",
    "### Kth Standard Moment\n",
    "$$ \\tilde{M_k} = \\frac{M_k}{(std)^k} = \\frac{1}{(std)^k}\\frac{1}{N}\\Sigma(X_i - \\mu)^k $$\n",
    "\n",
    "### Skewness or 3rd Standard Moment \n",
    "$$skew = \\frac{1}{(std)^3}\\frac{1}{N}\\Sigma(X_i - \\mu)^3 $$\n",
    "\n",
    "### Kurtosis or 4rd Moment \n",
    "$$skew = \\frac{1}{(std)^4}\\frac{1}{N}\\Sigma(X_i - \\mu)^4 $$\n",
    "\n",
    "Based on the above definitions let me create a function such that upon inputting the data it gives out the mean, variance, skewness and kurtosis"
   ]
  },
  {
   "cell_type": "code",
   "execution_count": 3,
   "id": "93a4f893",
   "metadata": {},
   "outputs": [
    {
     "name": "stdout",
     "output_type": "stream",
     "text": [
      "The 4 moments of the data as calculated by me are given by: \n",
      " [0.9959928722749182, 0.33106947837141415, 0.0023398920202809966, 1.8035875127224592]\n",
      "The 4 moments of the data as calculated by Python Libraries are given by: \n",
      " [0.9959928722749182, 0.33106947837141415, 0.0023398920202809957, 1.8035875127224588]\n",
      "error = [0.00000000e+00 0.00000000e+00 8.67361738e-19 4.44089210e-16]\n"
     ]
    }
   ],
   "source": [
    "import numpy as np\n",
    "from scipy import stats\n",
    "\n",
    "def my_moments(data):\n",
    "    # Calculating the mean from numpy\n",
    "    my_mean = np.mean(data)\n",
    "    # Evaluating X-mu\n",
    "    central_data = data - my_mean\n",
    "    #Evaluating my variance\n",
    "    my_var = np.mean(central_data**2)\n",
    "    #Evaluating standard deviation\n",
    "    my_std = np.sqrt(my_var)\n",
    "    #Evaulating skewness\n",
    "    my_skew = np.mean(central_data**3)/my_std**3\n",
    "    #Evaluating Kurtosis\n",
    "    my_kurt = np.mean(central_data**4)/my_std**4\n",
    "    \n",
    "    return [my_mean, my_var, my_skew, my_kurt]\n",
    "\n",
    "\n",
    "np.random.seed(1)\n",
    "a = np.random.uniform(0,2,10000)\n",
    "\n",
    "\n",
    "\n",
    "library_moments = [np.mean(a),np.var(a),\n",
    "                 stats.skew(a),stats.kurtosis(a,fisher=False)]\n",
    "\n",
    "print(f\"The 4 moments of the data as calculated by me are given by: \\n {my_moments(a)}\")\n",
    "print(f\"The 4 moments of the data as calculated by Python Libraries are given by: \\n {library_moments}\")\n",
    "print(f\"error = {np.array(my_moments(a))-np.array(library_moments)}\")"
   ]
  },
  {
   "cell_type": "markdown",
   "id": "e95e0e5b",
   "metadata": {},
   "source": [
    "Therefore we will use the following from now on:\n",
    "1. mean = np.mean(data)\n",
    "2. var = np.var(data)\n",
    "3. skewness = scipy.skew(data)\n",
    "4. kurtosis = scipy.kurtosis(data,fisher=off)"
   ]
  },
  {
   "cell_type": "markdown",
   "id": "8840cb36",
   "metadata": {},
   "source": [
    "Earlier we have plotted the histograms now let us evaluate the first 6 moments."
   ]
  },
  {
   "cell_type": "code",
   "execution_count": 5,
   "id": "58871e10",
   "metadata": {},
   "outputs": [],
   "source": [
    "import numpy as np\n",
    "from scipy import stats\n",
    "import matplotlib.pyplot as plt\n",
    "def my_moments(data):\n",
    "    # Calculating the mean from numpy\n",
    "    my_mean = np.mean(data)\n",
    "    # Evaluating X-mu\n",
    "    central_data = data - my_mean\n",
    "    #Evaluating my variance\n",
    "    my_var = np.mean(central_data**2)\n",
    "    #Evaluating standard deviation\n",
    "    my_std = np.sqrt(my_var)\n",
    "    #Evaulating m5\n",
    "    my_m5 = np.mean(central_data**5)/my_std**5\n",
    "    #Evaluating m6\n",
    "    my_m6 = np.mean(central_data**6)/my_std**6\n",
    "    \n",
    "    return [my_m5,my_m6]\n",
    "\n",
    "# initializing the moments\n",
    "num_of_files = 11\n",
    "[m,v,s,k,m5,m6] = [np.zeros(num_of_files) for __ in range(6)]\n",
    "\n",
    "num_of_files = 11\n",
    "file_index_list = list(range(num_of_files))\n",
    "for _,file_index in enumerate(file_index_list):\n",
    "    file_index = file_index+1\n",
    "    # reading the input file\n",
    "    file_number = f\"{file_index:03}\"\n",
    "    input_folder = f\"/Users/Jayee/Library/CloudStorage/OneDrive-UW-Madison/PhD(Data)/shear_data/vm_data/vm_800/vm_stress/vm_800_{file_number}.npy\"\n",
    "    vmstress= np.load(input_folder)\n",
    "    #calculating the mean\n",
    "    [m[_],v[_],s[_],k[_],[m5[_],m6[_]]] = [np.mean(vmstress),\n",
    "                       np.var(vmstress),\n",
    "                       stats.skew(vmstress),\n",
    "                       stats.kurtosis(vmstress,fisher=False),\n",
    "                       my_moments(vmstress)]"
   ]
  },
  {
   "cell_type": "markdown",
   "id": "f85f7659",
   "metadata": {},
   "source": [
    "## Saving this data as a numpy file\n",
    "- The npy file will have moments organized as columns,i.e., each column represents a different moment.\n",
    "- Let the first column represnt the time axis in micro seconds.\n",
    "- **Time|Mean|Var|Skewness|Kurt|m5|m6**"
   ]
  },
  {
   "cell_type": "code",
   "execution_count": 6,
   "id": "87e222e2",
   "metadata": {},
   "outputs": [
    {
     "data": {
      "text/plain": [
       "array([[ 1.71910000e+00,  1.49042806e+01,  5.06821189e+00,\n",
       "        -1.32191509e-02,  2.73895720e+00,  6.11989015e-01,\n",
       "         1.26137124e+01],\n",
       "       [ 2.79360000e+00,  5.09212542e+01,  5.92020840e+01,\n",
       "        -1.32327099e-02,  2.73895607e+00,  6.12068801e-01,\n",
       "         1.26135620e+01],\n",
       "       [ 3.65320000e+00,  9.21718766e+01,  1.94127132e+02,\n",
       "        -1.32488724e-02,  2.73895294e+00,  6.12147189e-01,\n",
       "         1.26133427e+01],\n",
       "       [ 5.15740000e+00,  2.53037778e+02,  1.43784543e+03,\n",
       "        -1.78858279e-02,  2.69763403e+00,  4.34894541e-01,\n",
       "         1.18668225e+01],\n",
       "       [ 6.01700000e+00,  2.81985571e+02,  1.72939991e+03,\n",
       "         4.60572990e-02,  2.59188252e+00,  6.28577623e-01,\n",
       "         1.06969062e+01],\n",
       "       [ 7.52120000e+00,  3.81717403e+02,  3.84311253e+03,\n",
       "         1.73549315e-01,  2.04719721e+00,  1.11123389e+00,\n",
       "         6.03408867e+00],\n",
       "       [ 9.88500000e+00,  5.25100273e+02,  7.97260759e+03,\n",
       "        -1.76906449e-01,  1.91504799e+00, -4.51414683e-01,\n",
       "         4.81123357e+00],\n",
       "       [ 1.22488000e+01,  6.53644242e+02,  1.28320762e+04,\n",
       "        -2.13457369e-01,  2.06650572e+00, -5.59049693e-01,\n",
       "         5.76261087e+00],\n",
       "       [ 1.46126000e+01,  7.17786283e+02,  1.62477830e+04,\n",
       "        -1.93739021e-01,  2.13664589e+00, -4.91902818e-01,\n",
       "         6.25956789e+00],\n",
       "       [ 1.80509000e+01,  7.82310926e+02,  1.98978870e+04,\n",
       "        -1.95044743e-01,  2.16428019e+00, -5.85205574e-01,\n",
       "         6.43462135e+00],\n",
       "       [ 1.97700000e+01,  8.30521460e+02,  2.23912609e+04,\n",
       "        -2.11379669e-01,  2.15500107e+00, -7.09742678e-01,\n",
       "         6.36840985e+00]])"
      ]
     },
     "execution_count": 6,
     "metadata": {},
     "output_type": "execute_result"
    }
   ],
   "source": [
    "# Defining the time data points from Noah\n",
    "time = np.array([1.7191,\n",
    "                2.7936,\n",
    "                3.6532,\n",
    "                5.1574,\n",
    "                6.0170,\n",
    "                7.5212,\n",
    "                9.8850,\n",
    "                12.2488,\n",
    "                14.6126,\n",
    "                18.0509,\n",
    "                19.7700])\n",
    "# stacking all the moments.\n",
    "time_moments = np.transpose(np.vstack([time, m,v,s,k,m5,m6]))\n",
    "time_moments"
   ]
  },
  {
   "cell_type": "code",
   "execution_count": 7,
   "id": "f5e1c8a9",
   "metadata": {},
   "outputs": [],
   "source": [
    "# Saving the file\n",
    "file_name = \"t_mvskm5m6_800.npy\"\n",
    "file_location = os.path.join(output_folder,file_name)\n",
    "np.save(file_location, time_moments)"
   ]
  },
  {
   "cell_type": "code",
   "execution_count": null,
   "id": "e0bc55e9",
   "metadata": {},
   "outputs": [],
   "source": []
  }
 ],
 "metadata": {
  "kernelspec": {
   "display_name": "Python 3 (ipykernel)",
   "language": "python",
   "name": "python3"
  },
  "language_info": {
   "codemirror_mode": {
    "name": "ipython",
    "version": 3
   },
   "file_extension": ".py",
   "mimetype": "text/x-python",
   "name": "python",
   "nbconvert_exporter": "python",
   "pygments_lexer": "ipython3",
   "version": "3.10.6"
  }
 },
 "nbformat": 4,
 "nbformat_minor": 5
}
