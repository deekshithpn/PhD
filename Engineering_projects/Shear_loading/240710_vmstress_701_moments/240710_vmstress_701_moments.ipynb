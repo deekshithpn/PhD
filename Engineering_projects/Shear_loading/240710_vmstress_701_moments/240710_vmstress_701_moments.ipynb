{
 "cells": [
  {
   "cell_type": "code",
   "execution_count": 134,
   "id": "f213a6c0",
   "metadata": {},
   "outputs": [],
   "source": [
    "import os\n",
    "output_folder = \"/Users/Jayee/OneDrive - UW-Madison/PhD(Data)/\\\n",
    "shear_data/Von_mises_data/vm_701/moments_data\""
   ]
  },
  {
   "cell_type": "markdown",
   "id": "ae8eb545",
   "metadata": {},
   "source": [
    "# Test My understanding about moments.\n",
    "- First let us know if the moment formulae I know are same as what are being used in python.\n",
    "- For this we will first generate some random data and calculate the moments in the way I know.\n",
    "- Later I want to test if my understanding of moments is same as the pythons convention\n",
    "\n",
    "## My definition of moments:\n",
    "Let us say we have $X_1, X_2,X_3, ...,X_N$ data.\n",
    "\n",
    "### Mean:\n",
    "$$\\mu = \\frac{1}{N}\\Sigma(X_k)$$\n",
    "\n",
    "### Variance (or) second central moment:\n",
    "$$ var = \\frac{1}{N}\\Sigma(X_i - \\mu)^2$$\n",
    "\n",
    "### Standard Deviation:\n",
    "$$std = \\sqrt{var}$$\n",
    "\n",
    "### Kth Central Moment\n",
    "$$ M_k = \\frac{1}{N}\\Sigma(X_i - \\mu)^k $$\n",
    "\n",
    "### Kth Standard Moment\n",
    "$$ \\tilde{M_k} = \\frac{M_k}{(std)^k} = \\frac{1}{(std)^k}\\frac{1}{N}\\Sigma(X_i - \\mu)^k $$\n",
    "\n",
    "### Skewness or 3rd Standard Moment \n",
    "$$skew = \\frac{1}{(std)^3}\\frac{1}{N}\\Sigma(X_i - \\mu)^3 $$\n",
    "\n",
    "### Kurtosis or 4rd Moment \n",
    "$$skew = \\frac{1}{(std)^4}\\frac{1}{N}\\Sigma(X_i - \\mu)^4 $$\n",
    "\n",
    "Based on the above definitions let me create a function such that upon inputting the data it gives out the mean, variance, skewness and kurtosis"
   ]
  },
  {
   "cell_type": "code",
   "execution_count": 67,
   "id": "93a4f893",
   "metadata": {},
   "outputs": [
    {
     "name": "stdout",
     "output_type": "stream",
     "text": [
      "The 4 moments of the data as calculated by me are given by: \n",
      " [0.9959928722749182, 0.33106947837141415, 0.0023398920202809966, 1.8035875127224592]\n",
      "The 4 moments of the data as calculated by Python Libraries are given by: \n",
      " [0.9959928722749182, 0.33106947837141415, 0.0023398920202809957, 1.8035875127224588]\n",
      "error = [0.00000000e+00 0.00000000e+00 8.67361738e-19 4.44089210e-16]\n"
     ]
    }
   ],
   "source": [
    "import numpy as np\n",
    "from scipy import stats\n",
    "\n",
    "def my_moments(data):\n",
    "    # Calculating the mean from numpy\n",
    "    my_mean = np.mean(data)\n",
    "    # Evaluating X-mu\n",
    "    central_data = data - my_mean\n",
    "    #Evaluating my variance\n",
    "    my_var = np.mean(central_data**2)\n",
    "    #Evaluating standard deviation\n",
    "    my_std = np.sqrt(my_var)\n",
    "    #Evaulating skewness\n",
    "    my_skew = np.mean(central_data**3)/my_std**3\n",
    "    #Evaluating Kurtosis\n",
    "    my_kurt = np.mean(central_data**4)/my_std**4\n",
    "    \n",
    "    return [my_mean, my_var, my_skew, my_kurt]\n",
    "\n",
    "\n",
    "np.random.seed(1)\n",
    "a = np.random.uniform(0,2,10000)\n",
    "\n",
    "\n",
    "\n",
    "library_moments = [np.mean(a),np.var(a),\n",
    "                 stats.skew(a),stats.kurtosis(a,fisher=False)]\n",
    "\n",
    "print(f\"The 4 moments of the data as calculated by me are given by: \\n {my_moments(a)}\")\n",
    "print(f\"The 4 moments of the data as calculated by Python Libraries are given by: \\n {library_moments}\")\n",
    "print(f\"error = {np.array(my_moments(a))-np.array(library_moments)}\")"
   ]
  },
  {
   "cell_type": "markdown",
   "id": "e95e0e5b",
   "metadata": {},
   "source": [
    "Therefore we will use the following from now on:\n",
    "1. mean = np.mean(data)\n",
    "2. var = np.var(data)\n",
    "3. skewness = scipy.skew(data)\n",
    "4. kurtosis = scipy.kurtosis(data,fisher=off)"
   ]
  },
  {
   "cell_type": "markdown",
   "id": "8840cb36",
   "metadata": {},
   "source": [
    "Earlier we have plotted the histograms now let us evaluate the first 6 moments."
   ]
  },
  {
   "cell_type": "code",
   "execution_count": 109,
   "id": "58871e10",
   "metadata": {},
   "outputs": [],
   "source": [
    "import numpy as np\n",
    "from scipy import stats\n",
    "import matplotlib.pyplot as plt\n",
    "def my_moments(data):\n",
    "    # Calculating the mean from numpy\n",
    "    my_mean = np.mean(data)\n",
    "    # Evaluating X-mu\n",
    "    central_data = data - my_mean\n",
    "    #Evaluating my variance\n",
    "    my_var = np.mean(central_data**2)\n",
    "    #Evaluating standard deviation\n",
    "    my_std = np.sqrt(my_var)\n",
    "    #Evaulating m5\n",
    "    my_m5 = np.mean(central_data**5)/my_std**5\n",
    "    #Evaluating m6\n",
    "    my_m6 = np.mean(central_data**6)/my_std**6\n",
    "    \n",
    "    return [my_m5,my_m6]\n",
    "\n",
    "# initializing the moments\n",
    "[m,v,s,k,m5,m6] = [np.zeros(num_of_files) for __ in range(6)]\n",
    "\n",
    "num_of_files = 11\n",
    "file_index_list = list(range(num_of_files))\n",
    "for _,file_index in enumerate(file_index_list):\n",
    "    file_index = file_index+1\n",
    "    # reading the input file\n",
    "    file_number = f\"{file_index:03}\"\n",
    "    input_folder = f\"/Users/Jayee/Library/CloudStorage/OneDrive-UW-Madison/PhD(Data)/shear_data/Von_mises_data/vm_701/stress_data/vm_701_{file_number}.npy\"\n",
    "    vmstress= np.load(input_folder)\n",
    "    #calculating the mean\n",
    "    [m[_],v[_],s[_],k[_],[m5[_],m6[_]]] = [np.mean(vmstress),\n",
    "                       np.var(vmstress),\n",
    "                       stats.skew(vmstress),\n",
    "                       stats.kurtosis(vmstress,fisher=False),\n",
    "                       my_moments(vmstress)]"
   ]
  },
  {
   "cell_type": "markdown",
   "id": "f85f7659",
   "metadata": {},
   "source": [
    "## Saving this data as a numpy file\n",
    "- The npy file will have moments organized as columns,i.e., each column represents a different moment.\n",
    "- Let the first column represnt the time axis in micro seconds.\n",
    "- **Time|Mean|Var|Skewness|Kurt|m5|m6**"
   ]
  },
  {
   "cell_type": "code",
   "execution_count": 124,
   "id": "87e222e2",
   "metadata": {},
   "outputs": [
    {
     "data": {
      "text/plain": [
       "array([[ 1.71910000e+00,  1.87325261e+01,  9.02796581e+00,\n",
       "        -6.41862069e-02,  2.68988372e+00,  3.44667271e-01,\n",
       "         1.18070814e+01],\n",
       "       [ 2.79360000e+00,  6.40071195e+01,  1.05454977e+02,\n",
       "        -6.40234740e-02,  2.68951890e+00,  3.45832488e-01,\n",
       "         1.18038967e+01],\n",
       "       [ 3.65320000e+00,  1.15882564e+02,  3.45719663e+02,\n",
       "        -6.45992675e-02,  2.69020173e+00,  3.41187839e-01,\n",
       "         1.18055589e+01],\n",
       "       [ 5.15740000e+00,  3.18154803e+02,  2.06718587e+03,\n",
       "        -7.97709666e-02,  2.56886253e+00, -2.45478979e-01,\n",
       "         9.97212687e+00],\n",
       "       [ 6.01700000e+00,  3.78113241e+02,  2.90467443e+03,\n",
       "         1.56270390e-01,  2.22423570e+00,  1.14053216e+00,\n",
       "         7.30828308e+00],\n",
       "       [ 7.52120000e+00,  5.73117695e+02,  8.76334536e+03,\n",
       "        -1.72070033e-01,  1.95426363e+00, -4.62267030e-01,\n",
       "         5.00306689e+00],\n",
       "       [ 9.88500000e+00,  7.66566173e+02,  1.82153615e+04,\n",
       "        -1.81092345e-01,  2.05740269e+00, -4.60480913e-01,\n",
       "         5.68007285e+00],\n",
       "       [ 1.22488000e+01,  9.00908182e+02,  2.82016216e+04,\n",
       "        -2.02782658e-01,  1.96215889e+00, -6.19116846e-01,\n",
       "         5.05585448e+00],\n",
       "       [ 1.46126000e+01,  9.41947341e+02,  3.11951099e+04,\n",
       "        -2.52437048e-01,  1.90338715e+00, -8.03724444e-01,\n",
       "         4.85711156e+00],\n",
       "       [ 1.80509000e+01,  9.73144654e+02,  3.28609734e+04,\n",
       "        -2.30399527e-01,  2.01850438e+00, -3.89600337e-01,\n",
       "         6.20269015e+00],\n",
       "       [ 1.97700000e+01,  1.00635168e+03,  3.53218447e+04,\n",
       "        -1.70346336e-01,  2.15109410e+00,  1.65471045e-01,\n",
       "         7.68610879e+00]])"
      ]
     },
     "execution_count": 124,
     "metadata": {},
     "output_type": "execute_result"
    }
   ],
   "source": [
    "# Defining the time data points from Noah\n",
    "time = np.array([1.7191,\n",
    "                2.7936,\n",
    "                3.6532,\n",
    "                5.1574,\n",
    "                6.0170,\n",
    "                7.5212,\n",
    "                9.8850,\n",
    "                12.2488,\n",
    "                14.6126,\n",
    "                18.0509,\n",
    "                19.7700])\n",
    "# stacking all the moments.\n",
    "time_moments = np.transpose(np.vstack([time, m,v,s,k,m5,m6]))\n",
    "time_moments"
   ]
  },
  {
   "cell_type": "code",
   "execution_count": 131,
   "id": "f5e1c8a9",
   "metadata": {},
   "outputs": [],
   "source": [
    "# Saving the file\n",
    "file_name = \"t_mvskm5m6_701.npy\"\n",
    "file_location = os.path.join(output_folder,file_name)\n",
    "np.save(file_location, time_moments)"
   ]
  }
 ],
 "metadata": {
  "kernelspec": {
   "display_name": "Python 3 (ipykernel)",
   "language": "python",
   "name": "python3"
  },
  "language_info": {
   "codemirror_mode": {
    "name": "ipython",
    "version": 3
   },
   "file_extension": ".py",
   "mimetype": "text/x-python",
   "name": "python",
   "nbconvert_exporter": "python",
   "pygments_lexer": "ipython3",
   "version": "3.10.6"
  }
 },
 "nbformat": 4,
 "nbformat_minor": 5
}
