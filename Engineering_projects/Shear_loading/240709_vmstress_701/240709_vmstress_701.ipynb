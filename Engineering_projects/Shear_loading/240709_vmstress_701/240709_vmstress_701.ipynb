{
 "cells": [
  {
   "cell_type": "markdown",
   "id": "4505ec57",
   "metadata": {},
   "source": [
    "# Vonmisses stress\n",
    "The von mises stess is give by the following equation:\n",
    "$$ \\sqrt{\n",
    "        \\frac{\n",
    "            (s_{11}-s_{22})^2\n",
    "            + (s_{22}-s_{33})^2\n",
    "            + (s_{33}-s_{11})^2\n",
    "            + 6(s_{12}^2 + s_{23}^2 + s_{31}^2)\n",
    "            }\n",
    "            {2}\n",
    "         }\n",
    "         $$\n",
    "\n",
    "I am going to read the data from the text file because we can read line by line.\n",
    "- The columns in the text file are as follows.\n",
    "- temp|S11|S22|S33|S12|S13|S23|\n",
    "- Therefore let us process it line by line"
   ]
  },
  {
   "cell_type": "code",
   "execution_count": 1,
   "id": "e809da5d",
   "metadata": {},
   "outputs": [],
   "source": [
    "import numpy as np\n",
    "\n",
    "def vmstress(line):\n",
    "    # removing the \\n from the line\n",
    "    # converting the line to a list of words\n",
    "    line = line.strip().split()\n",
    "    \n",
    "    #deleting the temperature term\n",
    "    del line[0]\n",
    "    \n",
    "    # convert each element to a floating point value\n",
    "    s11 = float(line[0])\n",
    "    s22 = float(line[1])\n",
    "    s33 = float(line[2])\n",
    "    s12 = float(line[3])\n",
    "    s13 = float(line[4])\n",
    "    s23 = float(line[5])\n",
    "    \n",
    "    # calculating the Von Mises stress\n",
    "    part_1 = (s11 - s22)**2+(s22-s33)**2+(s33-s11)**2\n",
    "    part_2 = 6*(s12**2 +s23**2 + s13**2)\n",
    "    scalar_stress = np.sqrt((part_1 + part_2)/2)\n",
    "    return scalar_stress"
   ]
  },
  {
   "cell_type": "code",
   "execution_count": 4,
   "id": "5cdca176",
   "metadata": {},
   "outputs": [
    {
     "name": "stdout",
     "output_type": "stream",
     "text": [
      "8000000\n",
      "8000000\n",
      "8000000\n",
      "8000000\n",
      "8000000\n",
      "8000000\n",
      "8000000\n",
      "8000000\n",
      "8000000\n",
      "8000000\n",
      "8000000\n"
     ]
    }
   ],
   "source": [
    "# Given the folder I want the list of all the .txt files listed.\n",
    "import os\n",
    "\n",
    "folder_path = \"/Volumes/Deekshith/701_data\"\n",
    "# getting all the contents in the folder\n",
    "contents = os.listdir(folder_path)\n",
    "\n",
    "file_names = [content for content in contents if content.endswith(\".txt\")]\n",
    "del file_names[-1]\n",
    "file_times = [os.path.getmtime(os.path.join(folder_path,file_name)) for file_name in file_names]\n",
    "sorted_list = sorted(zip(file_times,file_names))\n",
    "sorted_file_names = [__ for _,__ in sorted_list]\n",
    "file_names = sorted_file_names\n",
    "\n",
    "\n",
    "for _,file_name in enumerate(file_names):\n",
    "    # create a file object with read access\n",
    "    file_path = os.path.join(folder_path,file_name)\n",
    "    file_object = open(file_path,'r')\n",
    "    \n",
    "    # read each line in the file using the file object\n",
    "    scalar_stress = np.zeros([8000001])\n",
    "    count = 0\n",
    "    line = file_object.readline()\n",
    "    while line !='':\n",
    "        scalar_stress[count] = vmstress(line)\n",
    "        count = count+1\n",
    "        line = file_object.readline()\n",
    "    print(count)\n",
    "    \n",
    "    save_fold_location = \"/Users/Jayee/OneDrive - UW-Madison/PhD(Data)/Shear data/Von_mises_data/\"\n",
    "    save_file_name = f\"vm_701_{_+1:03}.npy\"\n",
    "    save_file_loc = os.path.join(save_fold_location,save_file_name)\n",
    "    np.save(save_file_loc,scalar_stress)"
   ]
  },
  {
   "cell_type": "code",
   "execution_count": 40,
   "id": "1c9caabc",
   "metadata": {},
   "outputs": [
    {
     "data": {
      "text/plain": [
       "704000088"
      ]
     },
     "execution_count": 40,
     "metadata": {},
     "output_type": "execute_result"
    }
   ],
   "source": [
    "scalar_stress.nbytes"
   ]
  },
  {
   "cell_type": "code",
   "execution_count": null,
   "id": "8c2a596d",
   "metadata": {
    "scrolled": true
   },
   "outputs": [],
   "source": [
    "# Save the numpy array\n",
    "save_fold_location = \"/Users/Jayee/OneDrive - UW-Madison/PhD(Data)/Shear data/Von_mises_data/\"\n",
    "save_file_name = \"vm_701.npy\"\n",
    "save_file_loc = os.path.join(save_fold_location,save_file_name)\n",
    "np.save(save_file_loc,scalar_stress)"
   ]
  },
  {
   "cell_type": "code",
   "execution_count": 62,
   "id": "03c9e6a6",
   "metadata": {},
   "outputs": [
    {
     "data": {
      "text/plain": [
       "''"
      ]
     },
     "execution_count": 62,
     "metadata": {},
     "output_type": "execute_result"
    }
   ],
   "source": [
    "file_object.readline()"
   ]
  }
 ],
 "metadata": {
  "kernelspec": {
   "display_name": "Python 3 (ipykernel)",
   "language": "python",
   "name": "python3"
  },
  "language_info": {
   "codemirror_mode": {
    "name": "ipython",
    "version": 3
   },
   "file_extension": ".py",
   "mimetype": "text/x-python",
   "name": "python",
   "nbconvert_exporter": "python",
   "pygments_lexer": "ipython3",
   "version": "3.10.6"
  }
 },
 "nbformat": 4,
 "nbformat_minor": 5
}
