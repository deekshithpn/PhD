{
 "cells": [
  {
   "cell_type": "markdown",
   "id": "d03e4377",
   "metadata": {},
   "source": [
    "- Data in: Text file.\n",
    "- Each time instance is one text file.\n",
    "- The first 3 columns are Euler angles and the fourth column is the TDD.\n",
    "- We are interested in absolute rotation of each grain in this code.\n",
    "- EA(t)-EA(0) is to be computed."
   ]
  },
  {
   "cell_type": "code",
   "execution_count": 13,
   "id": "644ed58e",
   "metadata": {},
   "outputs": [],
   "source": [
    "import os\n",
    "import numpy as np\n",
    "\n",
    "# Code to create a directories\n",
    "#_____________________________________________________   \n",
    "o_folder = \"/Volumes/Extreme SSD/mac_data/shear_data/rel_rotat_data/\"\n",
    "#_____________________________________________________   \n",
    "\n",
    "data_number_list = [700,800,801,802]\n",
    "quantity_list = [\"e1\",\"e2\",\"e3\"]\n",
    "for quantity in quantity_list:\n",
    "    for data_number in data_number_list:\n",
    "        organization1 = os.path.join(quantity,str(data_number),quantity)\n",
    "        organization2 = os.path.join(quantity,str(data_number),\"moments_\"+quantity)\n",
    "        file_path = os.path.join(o_folder,organization1)\n",
    "        os.makedirs(file_path,exist_ok=True)\n",
    "        file_path = os.path.join(o_folder,organization2)\n",
    "        os.makedirs(file_path,exist_ok=True)\n"
   ]
  },
  {
   "cell_type": "code",
   "execution_count": 14,
   "id": "ea1e6f17",
   "metadata": {},
   "outputs": [
    {
     "data": {
      "text/plain": [
       "'e3/802/moments_e3'"
      ]
     },
     "execution_count": 14,
     "metadata": {},
     "output_type": "execute_result"
    }
   ],
   "source": [
    "organization2"
   ]
  },
  {
   "cell_type": "code",
   "execution_count": 15,
   "id": "cf5831d1",
   "metadata": {},
   "outputs": [
    {
     "name": "stdout",
     "output_type": "stream",
     "text": [
      "/Volumes/Extreme SSD/mac_data/shear_data/rel_rotat_data/e1/700/e1/Step-1.npy\n",
      "/Volumes/Extreme SSD/mac_data/shear_data/rel_rotat_data/e1/700/e1/Step-2.npy\n",
      "/Volumes/Extreme SSD/mac_data/shear_data/rel_rotat_data/e1/700/e1/Step-3.npy\n",
      "/Volumes/Extreme SSD/mac_data/shear_data/rel_rotat_data/e1/700/e1/Step-4.npy\n",
      "/Volumes/Extreme SSD/mac_data/shear_data/rel_rotat_data/e1/700/e1/Step-5.npy\n",
      "/Volumes/Extreme SSD/mac_data/shear_data/rel_rotat_data/e1/700/e1/Step-6.npy\n",
      "/Volumes/Extreme SSD/mac_data/shear_data/rel_rotat_data/e1/700/e1/Step-7.npy\n",
      "/Volumes/Extreme SSD/mac_data/shear_data/rel_rotat_data/e1/700/e1/Step-8.npy\n",
      "/Volumes/Extreme SSD/mac_data/shear_data/rel_rotat_data/e1/700/e1/Step-9.npy\n",
      "/Volumes/Extreme SSD/mac_data/shear_data/rel_rotat_data/e1/700/e1/Step-10.npy\n",
      "/Volumes/Extreme SSD/mac_data/shear_data/rel_rotat_data/e1/700/e1/Step-11.npy\n",
      "/Volumes/Extreme SSD/mac_data/shear_data/rel_rotat_data/e2/700/e2/Step-1.npy\n",
      "/Volumes/Extreme SSD/mac_data/shear_data/rel_rotat_data/e2/700/e2/Step-2.npy\n",
      "/Volumes/Extreme SSD/mac_data/shear_data/rel_rotat_data/e2/700/e2/Step-3.npy\n",
      "/Volumes/Extreme SSD/mac_data/shear_data/rel_rotat_data/e2/700/e2/Step-4.npy\n",
      "/Volumes/Extreme SSD/mac_data/shear_data/rel_rotat_data/e2/700/e2/Step-5.npy\n",
      "/Volumes/Extreme SSD/mac_data/shear_data/rel_rotat_data/e2/700/e2/Step-6.npy\n",
      "/Volumes/Extreme SSD/mac_data/shear_data/rel_rotat_data/e2/700/e2/Step-7.npy\n",
      "/Volumes/Extreme SSD/mac_data/shear_data/rel_rotat_data/e2/700/e2/Step-8.npy\n",
      "/Volumes/Extreme SSD/mac_data/shear_data/rel_rotat_data/e2/700/e2/Step-9.npy\n",
      "/Volumes/Extreme SSD/mac_data/shear_data/rel_rotat_data/e2/700/e2/Step-10.npy\n",
      "/Volumes/Extreme SSD/mac_data/shear_data/rel_rotat_data/e2/700/e2/Step-11.npy\n",
      "/Volumes/Extreme SSD/mac_data/shear_data/rel_rotat_data/e3/700/e3/Step-1.npy\n",
      "/Volumes/Extreme SSD/mac_data/shear_data/rel_rotat_data/e3/700/e3/Step-2.npy\n",
      "/Volumes/Extreme SSD/mac_data/shear_data/rel_rotat_data/e3/700/e3/Step-3.npy\n",
      "/Volumes/Extreme SSD/mac_data/shear_data/rel_rotat_data/e3/700/e3/Step-4.npy\n",
      "/Volumes/Extreme SSD/mac_data/shear_data/rel_rotat_data/e3/700/e3/Step-5.npy\n",
      "/Volumes/Extreme SSD/mac_data/shear_data/rel_rotat_data/e3/700/e3/Step-6.npy\n",
      "/Volumes/Extreme SSD/mac_data/shear_data/rel_rotat_data/e3/700/e3/Step-7.npy\n",
      "/Volumes/Extreme SSD/mac_data/shear_data/rel_rotat_data/e3/700/e3/Step-8.npy\n",
      "/Volumes/Extreme SSD/mac_data/shear_data/rel_rotat_data/e3/700/e3/Step-9.npy\n",
      "/Volumes/Extreme SSD/mac_data/shear_data/rel_rotat_data/e3/700/e3/Step-10.npy\n",
      "/Volumes/Extreme SSD/mac_data/shear_data/rel_rotat_data/e3/700/e3/Step-11.npy\n",
      "/Volumes/Extreme SSD/mac_data/shear_data/rel_rotat_data/e1/800/e1/Step-1.npy\n",
      "/Volumes/Extreme SSD/mac_data/shear_data/rel_rotat_data/e1/800/e1/Step-2.npy\n",
      "/Volumes/Extreme SSD/mac_data/shear_data/rel_rotat_data/e1/800/e1/Step-3.npy\n",
      "/Volumes/Extreme SSD/mac_data/shear_data/rel_rotat_data/e1/800/e1/Step-4.npy\n",
      "/Volumes/Extreme SSD/mac_data/shear_data/rel_rotat_data/e1/800/e1/Step-5.npy\n",
      "/Volumes/Extreme SSD/mac_data/shear_data/rel_rotat_data/e1/800/e1/Step-6.npy\n",
      "/Volumes/Extreme SSD/mac_data/shear_data/rel_rotat_data/e1/800/e1/Step-7.npy\n",
      "/Volumes/Extreme SSD/mac_data/shear_data/rel_rotat_data/e1/800/e1/Step-8.npy\n",
      "/Volumes/Extreme SSD/mac_data/shear_data/rel_rotat_data/e1/800/e1/Step-9.npy\n",
      "/Volumes/Extreme SSD/mac_data/shear_data/rel_rotat_data/e1/800/e1/Step-10.npy\n",
      "/Volumes/Extreme SSD/mac_data/shear_data/rel_rotat_data/e1/800/e1/Step-11.npy\n",
      "/Volumes/Extreme SSD/mac_data/shear_data/rel_rotat_data/e2/800/e2/Step-1.npy\n",
      "/Volumes/Extreme SSD/mac_data/shear_data/rel_rotat_data/e2/800/e2/Step-2.npy\n",
      "/Volumes/Extreme SSD/mac_data/shear_data/rel_rotat_data/e2/800/e2/Step-3.npy\n",
      "/Volumes/Extreme SSD/mac_data/shear_data/rel_rotat_data/e2/800/e2/Step-4.npy\n",
      "/Volumes/Extreme SSD/mac_data/shear_data/rel_rotat_data/e2/800/e2/Step-5.npy\n",
      "/Volumes/Extreme SSD/mac_data/shear_data/rel_rotat_data/e2/800/e2/Step-6.npy\n",
      "/Volumes/Extreme SSD/mac_data/shear_data/rel_rotat_data/e2/800/e2/Step-7.npy\n",
      "/Volumes/Extreme SSD/mac_data/shear_data/rel_rotat_data/e2/800/e2/Step-8.npy\n",
      "/Volumes/Extreme SSD/mac_data/shear_data/rel_rotat_data/e2/800/e2/Step-9.npy\n",
      "/Volumes/Extreme SSD/mac_data/shear_data/rel_rotat_data/e2/800/e2/Step-10.npy\n",
      "/Volumes/Extreme SSD/mac_data/shear_data/rel_rotat_data/e2/800/e2/Step-11.npy\n",
      "/Volumes/Extreme SSD/mac_data/shear_data/rel_rotat_data/e3/800/e3/Step-1.npy\n",
      "/Volumes/Extreme SSD/mac_data/shear_data/rel_rotat_data/e3/800/e3/Step-2.npy\n",
      "/Volumes/Extreme SSD/mac_data/shear_data/rel_rotat_data/e3/800/e3/Step-3.npy\n",
      "/Volumes/Extreme SSD/mac_data/shear_data/rel_rotat_data/e3/800/e3/Step-4.npy\n",
      "/Volumes/Extreme SSD/mac_data/shear_data/rel_rotat_data/e3/800/e3/Step-5.npy\n",
      "/Volumes/Extreme SSD/mac_data/shear_data/rel_rotat_data/e3/800/e3/Step-6.npy\n",
      "/Volumes/Extreme SSD/mac_data/shear_data/rel_rotat_data/e3/800/e3/Step-7.npy\n",
      "/Volumes/Extreme SSD/mac_data/shear_data/rel_rotat_data/e3/800/e3/Step-8.npy\n",
      "/Volumes/Extreme SSD/mac_data/shear_data/rel_rotat_data/e3/800/e3/Step-9.npy\n",
      "/Volumes/Extreme SSD/mac_data/shear_data/rel_rotat_data/e3/800/e3/Step-10.npy\n",
      "/Volumes/Extreme SSD/mac_data/shear_data/rel_rotat_data/e3/800/e3/Step-11.npy\n",
      "/Volumes/Extreme SSD/mac_data/shear_data/rel_rotat_data/e1/801/e1/Step-1.npy\n",
      "/Volumes/Extreme SSD/mac_data/shear_data/rel_rotat_data/e1/801/e1/Step-2.npy\n",
      "/Volumes/Extreme SSD/mac_data/shear_data/rel_rotat_data/e1/801/e1/Step-3.npy\n",
      "/Volumes/Extreme SSD/mac_data/shear_data/rel_rotat_data/e1/801/e1/Step-4.npy\n",
      "/Volumes/Extreme SSD/mac_data/shear_data/rel_rotat_data/e1/801/e1/Step-5.npy\n",
      "/Volumes/Extreme SSD/mac_data/shear_data/rel_rotat_data/e1/801/e1/Step-6.npy\n",
      "/Volumes/Extreme SSD/mac_data/shear_data/rel_rotat_data/e1/801/e1/Step-7.npy\n",
      "/Volumes/Extreme SSD/mac_data/shear_data/rel_rotat_data/e1/801/e1/Step-8.npy\n",
      "/Volumes/Extreme SSD/mac_data/shear_data/rel_rotat_data/e1/801/e1/Step-9.npy\n",
      "/Volumes/Extreme SSD/mac_data/shear_data/rel_rotat_data/e1/801/e1/Step-10.npy\n",
      "/Volumes/Extreme SSD/mac_data/shear_data/rel_rotat_data/e1/801/e1/Step-11.npy\n",
      "/Volumes/Extreme SSD/mac_data/shear_data/rel_rotat_data/e2/801/e2/Step-1.npy\n",
      "/Volumes/Extreme SSD/mac_data/shear_data/rel_rotat_data/e2/801/e2/Step-2.npy\n",
      "/Volumes/Extreme SSD/mac_data/shear_data/rel_rotat_data/e2/801/e2/Step-3.npy\n",
      "/Volumes/Extreme SSD/mac_data/shear_data/rel_rotat_data/e2/801/e2/Step-4.npy\n",
      "/Volumes/Extreme SSD/mac_data/shear_data/rel_rotat_data/e2/801/e2/Step-5.npy\n",
      "/Volumes/Extreme SSD/mac_data/shear_data/rel_rotat_data/e2/801/e2/Step-6.npy\n",
      "/Volumes/Extreme SSD/mac_data/shear_data/rel_rotat_data/e2/801/e2/Step-7.npy\n",
      "/Volumes/Extreme SSD/mac_data/shear_data/rel_rotat_data/e2/801/e2/Step-8.npy\n",
      "/Volumes/Extreme SSD/mac_data/shear_data/rel_rotat_data/e2/801/e2/Step-9.npy\n",
      "/Volumes/Extreme SSD/mac_data/shear_data/rel_rotat_data/e2/801/e2/Step-10.npy\n",
      "/Volumes/Extreme SSD/mac_data/shear_data/rel_rotat_data/e2/801/e2/Step-11.npy\n",
      "/Volumes/Extreme SSD/mac_data/shear_data/rel_rotat_data/e3/801/e3/Step-1.npy\n",
      "/Volumes/Extreme SSD/mac_data/shear_data/rel_rotat_data/e3/801/e3/Step-2.npy\n",
      "/Volumes/Extreme SSD/mac_data/shear_data/rel_rotat_data/e3/801/e3/Step-3.npy\n",
      "/Volumes/Extreme SSD/mac_data/shear_data/rel_rotat_data/e3/801/e3/Step-4.npy\n",
      "/Volumes/Extreme SSD/mac_data/shear_data/rel_rotat_data/e3/801/e3/Step-5.npy\n",
      "/Volumes/Extreme SSD/mac_data/shear_data/rel_rotat_data/e3/801/e3/Step-6.npy\n",
      "/Volumes/Extreme SSD/mac_data/shear_data/rel_rotat_data/e3/801/e3/Step-7.npy\n",
      "/Volumes/Extreme SSD/mac_data/shear_data/rel_rotat_data/e3/801/e3/Step-8.npy\n",
      "/Volumes/Extreme SSD/mac_data/shear_data/rel_rotat_data/e3/801/e3/Step-9.npy\n",
      "/Volumes/Extreme SSD/mac_data/shear_data/rel_rotat_data/e3/801/e3/Step-10.npy\n",
      "/Volumes/Extreme SSD/mac_data/shear_data/rel_rotat_data/e3/801/e3/Step-11.npy\n",
      "/Volumes/Extreme SSD/mac_data/shear_data/rel_rotat_data/e1/802/e1/Step-1.npy\n",
      "/Volumes/Extreme SSD/mac_data/shear_data/rel_rotat_data/e1/802/e1/Step-2.npy\n",
      "/Volumes/Extreme SSD/mac_data/shear_data/rel_rotat_data/e1/802/e1/Step-3.npy\n",
      "/Volumes/Extreme SSD/mac_data/shear_data/rel_rotat_data/e1/802/e1/Step-4.npy\n",
      "/Volumes/Extreme SSD/mac_data/shear_data/rel_rotat_data/e1/802/e1/Step-5.npy\n",
      "/Volumes/Extreme SSD/mac_data/shear_data/rel_rotat_data/e1/802/e1/Step-6.npy\n",
      "/Volumes/Extreme SSD/mac_data/shear_data/rel_rotat_data/e1/802/e1/Step-7.npy\n",
      "/Volumes/Extreme SSD/mac_data/shear_data/rel_rotat_data/e1/802/e1/Step-8.npy\n"
     ]
    },
    {
     "name": "stdout",
     "output_type": "stream",
     "text": [
      "/Volumes/Extreme SSD/mac_data/shear_data/rel_rotat_data/e1/802/e1/Step-9.npy\n",
      "/Volumes/Extreme SSD/mac_data/shear_data/rel_rotat_data/e1/802/e1/Step-10.npy\n",
      "/Volumes/Extreme SSD/mac_data/shear_data/rel_rotat_data/e1/802/e1/Step-11.npy\n",
      "/Volumes/Extreme SSD/mac_data/shear_data/rel_rotat_data/e2/802/e2/Step-1.npy\n",
      "/Volumes/Extreme SSD/mac_data/shear_data/rel_rotat_data/e2/802/e2/Step-2.npy\n",
      "/Volumes/Extreme SSD/mac_data/shear_data/rel_rotat_data/e2/802/e2/Step-3.npy\n",
      "/Volumes/Extreme SSD/mac_data/shear_data/rel_rotat_data/e2/802/e2/Step-4.npy\n",
      "/Volumes/Extreme SSD/mac_data/shear_data/rel_rotat_data/e2/802/e2/Step-5.npy\n",
      "/Volumes/Extreme SSD/mac_data/shear_data/rel_rotat_data/e2/802/e2/Step-6.npy\n",
      "/Volumes/Extreme SSD/mac_data/shear_data/rel_rotat_data/e2/802/e2/Step-7.npy\n",
      "/Volumes/Extreme SSD/mac_data/shear_data/rel_rotat_data/e2/802/e2/Step-8.npy\n",
      "/Volumes/Extreme SSD/mac_data/shear_data/rel_rotat_data/e2/802/e2/Step-9.npy\n",
      "/Volumes/Extreme SSD/mac_data/shear_data/rel_rotat_data/e2/802/e2/Step-10.npy\n",
      "/Volumes/Extreme SSD/mac_data/shear_data/rel_rotat_data/e2/802/e2/Step-11.npy\n",
      "/Volumes/Extreme SSD/mac_data/shear_data/rel_rotat_data/e3/802/e3/Step-1.npy\n",
      "/Volumes/Extreme SSD/mac_data/shear_data/rel_rotat_data/e3/802/e3/Step-2.npy\n",
      "/Volumes/Extreme SSD/mac_data/shear_data/rel_rotat_data/e3/802/e3/Step-3.npy\n",
      "/Volumes/Extreme SSD/mac_data/shear_data/rel_rotat_data/e3/802/e3/Step-4.npy\n",
      "/Volumes/Extreme SSD/mac_data/shear_data/rel_rotat_data/e3/802/e3/Step-5.npy\n",
      "/Volumes/Extreme SSD/mac_data/shear_data/rel_rotat_data/e3/802/e3/Step-6.npy\n",
      "/Volumes/Extreme SSD/mac_data/shear_data/rel_rotat_data/e3/802/e3/Step-7.npy\n",
      "/Volumes/Extreme SSD/mac_data/shear_data/rel_rotat_data/e3/802/e3/Step-8.npy\n",
      "/Volumes/Extreme SSD/mac_data/shear_data/rel_rotat_data/e3/802/e3/Step-9.npy\n",
      "/Volumes/Extreme SSD/mac_data/shear_data/rel_rotat_data/e3/802/e3/Step-10.npy\n",
      "/Volumes/Extreme SSD/mac_data/shear_data/rel_rotat_data/e3/802/e3/Step-11.npy\n"
     ]
    }
   ],
   "source": [
    "# Location of the input text files.\n",
    "import os\n",
    "import numpy as np\n",
    "\n",
    "for data_number in data_number_list:\n",
    "    for quantity in quantity_list:\n",
    "        i_folder = f\"/Volumes/Extreme SSD/mac_data/shear_data/{quantity}_data/{data_number}/{quantity}\"\n",
    "        \n",
    "        lof = os.listdir(i_folder)\n",
    "        for text_file in lof:\n",
    "            text_file_path = os.path.join(i_folder,text_file)\n",
    "#_____________________________________________________   \n",
    "## for relative rotation\n",
    "            if text_file == \"Step-1.npy\":\n",
    "                ref_angles = np.load(text_file_path)\n",
    "            else:\n",
    "                ref_angles = x\n",
    "#_____________________________________________________                \n",
    "            x = np.load(text_file_path)\n",
    "#_____________________________________________________              \n",
    "## for absolute rotation\n",
    "#             if text_file == \"Step-1.npy\":\n",
    "#                 ref_angles =  x\n",
    "#_____________________________________________________              \n",
    "            # Evaluating the rotation\n",
    "            abs_rot = x - ref_angles\n",
    "            # Saving the files\n",
    "            o_file = text_file\n",
    "            organization1 = os.path.join(quantity,str(data_number),quantity+\"/\",o_file)\n",
    "            o_file_path = os.path.join(o_folder,organization1)\n",
    "            np.save(o_file_path,abs_rot)\n",
    "            print(o_file_path)"
   ]
  },
  {
   "cell_type": "code",
   "execution_count": 11,
   "id": "f3df74f8",
   "metadata": {},
   "outputs": [
    {
     "data": {
      "text/plain": [
       "'Step-5.npy'"
      ]
     },
     "execution_count": 11,
     "metadata": {},
     "output_type": "execute_result"
    }
   ],
   "source": [
    "o_file"
   ]
  },
  {
   "cell_type": "code",
   "execution_count": 7,
   "id": "2b6669d8",
   "metadata": {},
   "outputs": [
    {
     "data": {
      "text/plain": [
       "array([-56.77144623, -56.77146912, -56.77121353, ...,  46.85987854,\n",
       "        46.86022186,  46.85992432])"
      ]
     },
     "execution_count": 7,
     "metadata": {},
     "output_type": "execute_result"
    }
   ],
   "source": [
    "ref_angles"
   ]
  },
  {
   "cell_type": "code",
   "execution_count": 8,
   "id": "ce1c2039",
   "metadata": {},
   "outputs": [
    {
     "data": {
      "text/plain": [
       "array([0.02754974, 0.02392578, 0.02923965, ..., 0.01763153, 0.02416229,\n",
       "       0.01834869])"
      ]
     },
     "execution_count": 8,
     "metadata": {},
     "output_type": "execute_result"
    }
   ],
   "source": [
    "x-ref_angles"
   ]
  },
  {
   "cell_type": "code",
   "execution_count": 10,
   "id": "ff66c6ea",
   "metadata": {},
   "outputs": [
    {
     "data": {
      "text/plain": [
       "64000000"
      ]
     },
     "execution_count": 10,
     "metadata": {},
     "output_type": "execute_result"
    }
   ],
   "source": [
    "abs_rot.nbytes"
   ]
  },
  {
   "cell_type": "code",
   "execution_count": null,
   "id": "d78d83c9",
   "metadata": {},
   "outputs": [],
   "source": []
  }
 ],
 "metadata": {
  "kernelspec": {
   "display_name": "Python 3 (ipykernel)",
   "language": "python",
   "name": "python3"
  },
  "language_info": {
   "codemirror_mode": {
    "name": "ipython",
    "version": 3
   },
   "file_extension": ".py",
   "mimetype": "text/x-python",
   "name": "python",
   "nbconvert_exporter": "python",
   "pygments_lexer": "ipython3",
   "version": "3.10.6"
  }
 },
 "nbformat": 4,
 "nbformat_minor": 5
}
