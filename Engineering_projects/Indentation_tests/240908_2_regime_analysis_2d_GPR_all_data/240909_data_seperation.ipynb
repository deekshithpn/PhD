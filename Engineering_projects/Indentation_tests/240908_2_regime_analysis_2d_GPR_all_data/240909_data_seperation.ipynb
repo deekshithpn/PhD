{
 "cells": [
  {
   "cell_type": "markdown",
   "id": "879c400b",
   "metadata": {},
   "source": [
    "### What we have?\n",
    "- We have data in red, green and blue.\n",
    "- we observed from the data visualization that there no orientation data between 20 and 40 degrees.\n",
    "- Therefore we will divide the data into two regimes.\n",
    "    - Low misorientation regime (lmr)\n",
    "    - high misorientation regime (hmr)\n",
    "- we will save the data as two seperate excel sheets, for labelling convinience.\n",
    "\n",
    "### Objective:\n",
    "1. Input the excel file with all data.\n",
    "2. Seperate the lmr and hmr and save in two seperate excel files namely lmr and hmr."
   ]
  },
  {
   "cell_type": "code",
   "execution_count": 119,
   "id": "07fcf708",
   "metadata": {},
   "outputs": [],
   "source": [
    "# Defining separate function\n",
    "## On inputting an array of lists, it seperates data based on the misorientation angle to lmr or hmr.\n",
    "### lmr when misorientation angle is <40\n",
    "### hmr when the misorientation angle is >40\n",
    "def separate(c_data_mix): #c_data_mix represents color_data_mix\n",
    "    lmr = np.zeros([5])\n",
    "    hmr = np.zeros([5])\n",
    "    for row in c_data_mix:\n",
    "        if row[4]<20:\n",
    "            lmr = np.vstack([lmr,row])\n",
    "        if row[4]>40:\n",
    "            hmr = np.vstack([hmr,row])\n",
    "    lmr = np.delete(lmr,0,axis= 0)\n",
    "    hmr = np.delete(hmr,0,axis= 0)\n",
    "    return lmr,hmr"
   ]
  },
  {
   "cell_type": "code",
   "execution_count": 120,
   "id": "68addc2e",
   "metadata": {},
   "outputs": [],
   "source": [
    "# all libraries will be here\n",
    "import os\n",
    "import pandas as pd\n",
    "import numpy as np\n",
    "import matplotlib.pyplot as plt\n",
    "\n",
    "# Reading the excel file data\n",
    "current_dir = !pwd\n",
    "input_excel_path = os.path.join(current_dir[0],\"Spherical_indentation_data.xlsx\")\n",
    "data_with_labels = pd.read_excel(input_excel_path)\n",
    "data_with_labels = data_with_labels[1:].values\n",
    "\n",
    "# defining the r,g,b data.\n",
    "## mix represents both lmr and hmr are not segregated.\n",
    "r_data_mix = data_with_labels[:13]\n",
    "g_data_mix = data_with_labels[13:26]\n",
    "b_data_mix = data_with_labels[26:]\n",
    "data_mix_list = [r_data_mix,g_data_mix,b_data_mix]\n",
    "\n",
    "# seperating r,g,b data\n",
    "r_lmr,r_hmr = separate(r_data_mix)\n",
    "g_lmr,g_hmr = separate(g_data_mix)\n",
    "b_lmr,b_hmr = separate(b_data_mix)\n",
    "\n",
    "lmr = np.vstack([r_lmr,g_lmr,b_lmr])\n",
    "hmr = np.vstack([r_hmr,g_hmr,b_hmr])\n",
    "\n",
    "#creating a dataframe\n",
    "headers = ['test','K','Y','x','o']\n",
    "df_lmr = pd.DataFrame(lmr, columns=headers)\n",
    "df_hmr = pd.DataFrame(hmr, columns=headers)\n",
    "\n",
    "#saving lmr and hmr as excel files.\n",
    "df_lmr.to_excel(\"lmr.xlsx\", index=False)\n",
    "df_hmr.to_excel(\"hmr.xlsx\", index=False)"
   ]
  },
  {
   "cell_type": "code",
   "execution_count": 121,
   "id": "7d45be20",
   "metadata": {},
   "outputs": [
    {
     "name": "stdout",
     "output_type": "stream",
     "text": [
      "# of rows in r_lmr =  5\n",
      "# of rows in g_lmr =  7\n",
      "# of rows in b_lmr =  6\n"
     ]
    }
   ],
   "source": [
    "print(\"# of rows in r_lmr = \", r_lmr.shape[0])\n",
    "print(\"# of rows in g_lmr = \", g_lmr.shape[0])\n",
    "print(\"# of rows in b_lmr = \", b_lmr.shape[0])"
   ]
  },
  {
   "cell_type": "code",
   "execution_count": 122,
   "id": "9288b85d",
   "metadata": {},
   "outputs": [
    {
     "name": "stdout",
     "output_type": "stream",
     "text": [
      "# of rows in r_hmr =  8\n",
      "# of rows in g_hmr =  6\n",
      "# of rows in b_hmr =  12\n"
     ]
    }
   ],
   "source": [
    "print(\"# of rows in r_hmr = \", r_hmr.shape[0])\n",
    "print(\"# of rows in g_hmr = \", g_hmr.shape[0])\n",
    "print(\"# of rows in b_hmr = \", b_hmr.shape[0])"
   ]
  },
  {
   "cell_type": "code",
   "execution_count": null,
   "id": "1e26a5d6",
   "metadata": {},
   "outputs": [],
   "source": []
  }
 ],
 "metadata": {
  "kernelspec": {
   "display_name": "Python 3 (ipykernel)",
   "language": "python",
   "name": "python3"
  },
  "language_info": {
   "codemirror_mode": {
    "name": "ipython",
    "version": 3
   },
   "file_extension": ".py",
   "mimetype": "text/x-python",
   "name": "python",
   "nbconvert_exporter": "python",
   "pygments_lexer": "ipython3",
   "version": "3.10.6"
  }
 },
 "nbformat": 4,
 "nbformat_minor": 5
}
