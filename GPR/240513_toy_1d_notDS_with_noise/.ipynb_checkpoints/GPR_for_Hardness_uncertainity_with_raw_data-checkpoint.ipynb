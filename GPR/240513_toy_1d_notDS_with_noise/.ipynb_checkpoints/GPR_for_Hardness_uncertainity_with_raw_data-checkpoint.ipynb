{
 "cells": [
  {
   "cell_type": "markdown",
   "id": "30b0df76",
   "metadata": {},
   "source": [
    "### Collecting data from Excel after projecting onto Fundamental region\n",
    "First we have projected each and every Euler angle to the fundamental region and saved it into the adjusted data. Note that the crystal lattice has M-3M symmetry.\n",
    "\n",
    "Now let us import the data in the adjusted_data sheet into a variable df using pandas."
   ]
  },
  {
   "cell_type": "code",
   "execution_count": 195,
   "id": "e4db354a",
   "metadata": {},
   "outputs": [
    {
     "name": "stdout",
     "output_type": "stream",
     "text": [
      "          phi1        Phi       phi2  Hardness\n",
      "0    41.202039  87.726872  38.232810  5.627376\n",
      "1   122.790000  42.110000   8.080000  4.519980\n",
      "2    87.530326  85.658027  79.731152  5.085306\n",
      "3    11.636288  69.931401  52.949844  5.386455\n",
      "4    92.027827  53.402180  76.037459  6.140811\n",
      "..         ...        ...        ...       ...\n",
      "74  108.350000   6.100000  58.640000  4.869228\n",
      "75   66.603169  65.635145  79.590567  5.447002\n",
      "76  110.704842  57.048308  54.350050  6.045008\n",
      "77   32.876588  77.471652   6.673995  4.340647\n",
      "78    1.371877  58.873510  40.324629  5.204662\n",
      "\n",
      "[79 rows x 4 columns]\n"
     ]
    }
   ],
   "source": [
    "import pandas as pd\n",
    "import matplotlib.pyplot as plt\n",
    "\n",
    "# Replace 'file.xlsx' with the path to your Excel file\n",
    "file_path = '/Users/Jayee/Downloads/Nanoindentation data-selected/Berkovich Nanoindentation Strain rates of E-2 E-1 and E0 per second/Strain rate of E-1 ps.xlsx'\n",
    "\n",
    "# Read Excel file into a DataFrame, handling any blank spaces as NaN\n",
    "# Use the 'usecols' parameter to specify the range of columns to read\n",
    "df = pd.read_excel(file_path,sheet_name = \"adjusted_data\" , na_values=' ', usecols='A:D')  # Assuming columns A to Z contain data\n",
    "\n",
    "# Drop rows with any missing values\n",
    "df.dropna(inplace=True)\n",
    "\n",
    "# Print the DataFrame\n",
    "print(df)\n"
   ]
  },
  {
   "cell_type": "markdown",
   "id": "d8d22e3c",
   "metadata": {},
   "source": [
    "### Step2: saving our data as an array.\n",
    "Lets save all our data as an array called data."
   ]
  },
  {
   "cell_type": "code",
   "execution_count": 162,
   "id": "fbf10a2e",
   "metadata": {},
   "outputs": [
    {
     "name": "stdout",
     "output_type": "stream",
     "text": [
      "n_data =  79\n"
     ]
    }
   ],
   "source": [
    "import numpy as np\n",
    "data = df.values\n",
    "data = np.array(data)\n",
    "n_data = data.shape[0]\n",
    "print(f\"n_data = \", n_data)"
   ]
  },
  {
   "cell_type": "markdown",
   "id": "433c0ea8",
   "metadata": {},
   "source": [
    "### Step3: Segregating training and test data.\n",
    "We have n_data = 79. Now out of 79 let us train 69 data points using GPR and the rest 10 let us put it as test data. But we will first select the data at random."
   ]
  },
  {
   "cell_type": "code",
   "execution_count": 163,
   "id": "abd011c1",
   "metadata": {},
   "outputs": [],
   "source": [
    "import random\n",
    "random.seed(0)\n",
    "\n",
    "n_test = 10\n",
    "n_train = n_data-n_test\n",
    "\n",
    "random_numbers = random.sample(range(n_data), n_data)\n",
    "data_train = data[random_numbers[0:n_train],:]\n",
    "data_test = data[random_numbers[n_train:],:]"
   ]
  },
  {
   "cell_type": "markdown",
   "id": "f9b99898",
   "metadata": {},
   "source": [
    "### Step4: Segregating the X and Y data\n",
    "We have a 2d array with the first 3 columns representing the euler angles and the 4th column representing the hardness. so lets seperate them as x and y respectively\n"
   ]
  },
  {
   "cell_type": "code",
   "execution_count": 170,
   "id": "308fdbb9",
   "metadata": {},
   "outputs": [],
   "source": [
    "x_train = data_train[:,0:-1]\n",
    "y_train = data_train[:,-1]\n",
    "\n",
    "x_test = data_test[:,0:-1]\n",
    "y_test = data_test[:,-1]"
   ]
  },
  {
   "cell_type": "markdown",
   "id": "140ebe19",
   "metadata": {},
   "source": [
    "### Step4: Scaling the x_train and x_test\n"
   ]
  },
  {
   "cell_type": "code",
   "execution_count": 175,
   "id": "8f9c2ecc",
   "metadata": {},
   "outputs": [],
   "source": [
    "from sklearn.preprocessing import MinMaxScaler\n",
    "scaler = MinMaxScaler()\n",
    "scaler.fit(x_train)\n",
    "x_train_scaled = scaler.transform(x_train)\n",
    "x_test_scaled = scaler.transform(x_test)"
   ]
  },
  {
   "cell_type": "markdown",
   "id": "3e2d2909",
   "metadata": {},
   "source": [
    "### Step5: Perfoming GPR"
   ]
  },
  {
   "cell_type": "code",
   "execution_count": 187,
   "id": "99e8b983",
   "metadata": {},
   "outputs": [
    {
     "data": {
      "text/html": [
       "<style>#sk-container-id-4 {color: black;}#sk-container-id-4 pre{padding: 0;}#sk-container-id-4 div.sk-toggleable {background-color: white;}#sk-container-id-4 label.sk-toggleable__label {cursor: pointer;display: block;width: 100%;margin-bottom: 0;padding: 0.3em;box-sizing: border-box;text-align: center;}#sk-container-id-4 label.sk-toggleable__label-arrow:before {content: \"▸\";float: left;margin-right: 0.25em;color: #696969;}#sk-container-id-4 label.sk-toggleable__label-arrow:hover:before {color: black;}#sk-container-id-4 div.sk-estimator:hover label.sk-toggleable__label-arrow:before {color: black;}#sk-container-id-4 div.sk-toggleable__content {max-height: 0;max-width: 0;overflow: hidden;text-align: left;background-color: #f0f8ff;}#sk-container-id-4 div.sk-toggleable__content pre {margin: 0.2em;color: black;border-radius: 0.25em;background-color: #f0f8ff;}#sk-container-id-4 input.sk-toggleable__control:checked~div.sk-toggleable__content {max-height: 200px;max-width: 100%;overflow: auto;}#sk-container-id-4 input.sk-toggleable__control:checked~label.sk-toggleable__label-arrow:before {content: \"▾\";}#sk-container-id-4 div.sk-estimator input.sk-toggleable__control:checked~label.sk-toggleable__label {background-color: #d4ebff;}#sk-container-id-4 div.sk-label input.sk-toggleable__control:checked~label.sk-toggleable__label {background-color: #d4ebff;}#sk-container-id-4 input.sk-hidden--visually {border: 0;clip: rect(1px 1px 1px 1px);clip: rect(1px, 1px, 1px, 1px);height: 1px;margin: -1px;overflow: hidden;padding: 0;position: absolute;width: 1px;}#sk-container-id-4 div.sk-estimator {font-family: monospace;background-color: #f0f8ff;border: 1px dotted black;border-radius: 0.25em;box-sizing: border-box;margin-bottom: 0.5em;}#sk-container-id-4 div.sk-estimator:hover {background-color: #d4ebff;}#sk-container-id-4 div.sk-parallel-item::after {content: \"\";width: 100%;border-bottom: 1px solid gray;flex-grow: 1;}#sk-container-id-4 div.sk-label:hover label.sk-toggleable__label {background-color: #d4ebff;}#sk-container-id-4 div.sk-serial::before {content: \"\";position: absolute;border-left: 1px solid gray;box-sizing: border-box;top: 0;bottom: 0;left: 50%;z-index: 0;}#sk-container-id-4 div.sk-serial {display: flex;flex-direction: column;align-items: center;background-color: white;padding-right: 0.2em;padding-left: 0.2em;position: relative;}#sk-container-id-4 div.sk-item {position: relative;z-index: 1;}#sk-container-id-4 div.sk-parallel {display: flex;align-items: stretch;justify-content: center;background-color: white;position: relative;}#sk-container-id-4 div.sk-item::before, #sk-container-id-4 div.sk-parallel-item::before {content: \"\";position: absolute;border-left: 1px solid gray;box-sizing: border-box;top: 0;bottom: 0;left: 50%;z-index: -1;}#sk-container-id-4 div.sk-parallel-item {display: flex;flex-direction: column;z-index: 1;position: relative;background-color: white;}#sk-container-id-4 div.sk-parallel-item:first-child::after {align-self: flex-end;width: 50%;}#sk-container-id-4 div.sk-parallel-item:last-child::after {align-self: flex-start;width: 50%;}#sk-container-id-4 div.sk-parallel-item:only-child::after {width: 0;}#sk-container-id-4 div.sk-dashed-wrapped {border: 1px dashed gray;margin: 0 0.4em 0.5em 0.4em;box-sizing: border-box;padding-bottom: 0.4em;background-color: white;}#sk-container-id-4 div.sk-label label {font-family: monospace;font-weight: bold;display: inline-block;line-height: 1.2em;}#sk-container-id-4 div.sk-label-container {text-align: center;}#sk-container-id-4 div.sk-container {/* jupyter's `normalize.less` sets `[hidden] { display: none; }` but bootstrap.min.css set `[hidden] { display: none !important; }` so we also need the `!important` here to be able to override the default hidden behavior on the sphinx rendered scikit-learn.org. See: https://github.com/scikit-learn/scikit-learn/issues/21755 */display: inline-block !important;position: relative;}#sk-container-id-4 div.sk-text-repr-fallback {display: none;}</style><div id=\"sk-container-id-4\" class=\"sk-top-container\"><div class=\"sk-text-repr-fallback\"><pre>GaussianProcessRegressor(kernel=1**2 * RBF(length_scale=[1, 1, 1]) + WhiteKernel(noise_level=2),\n",
       "                         n_restarts_optimizer=10, random_state=1)</pre><b>In a Jupyter environment, please rerun this cell to show the HTML representation or trust the notebook. <br />On GitHub, the HTML representation is unable to render, please try loading this page with nbviewer.org.</b></div><div class=\"sk-container\" hidden><div class=\"sk-item\"><div class=\"sk-estimator sk-toggleable\"><input class=\"sk-toggleable__control sk-hidden--visually\" id=\"sk-estimator-id-4\" type=\"checkbox\" checked><label for=\"sk-estimator-id-4\" class=\"sk-toggleable__label sk-toggleable__label-arrow\">GaussianProcessRegressor</label><div class=\"sk-toggleable__content\"><pre>GaussianProcessRegressor(kernel=1**2 * RBF(length_scale=[1, 1, 1]) + WhiteKernel(noise_level=2),\n",
       "                         n_restarts_optimizer=10, random_state=1)</pre></div></div></div></div></div>"
      ],
      "text/plain": [
       "GaussianProcessRegressor(kernel=1**2 * RBF(length_scale=[1, 1, 1]) + WhiteKernel(noise_level=2),\n",
       "                         n_restarts_optimizer=10, random_state=1)"
      ]
     },
     "execution_count": 187,
     "metadata": {},
     "output_type": "execute_result"
    }
   ],
   "source": [
    "from sklearn.gaussian_process import GaussianProcessRegressor as GPR\n",
    "from sklearn.gaussian_process.kernels import WhiteKernel,RBF\n",
    "\n",
    "ls = [1,1,1]\n",
    "lsb = [1e-2,1e5]\n",
    "kernel = 1* RBF(length_scale = ls, length_scale_bounds=lsb)+ WhiteKernel(\n",
    "    noise_level=2, noise_level_bounds=(1e-2, 1e2))\n",
    "\n",
    "gp = GPR(kernel=kernel,n_restarts_optimizer=10,random_state=1)\n",
    "gp.max_iter_predict = 100\n",
    "\n",
    "gp.fit(x_train_scaled,y_train)"
   ]
  },
  {
   "cell_type": "code",
   "execution_count": 188,
   "id": "cc0a015b",
   "metadata": {},
   "outputs": [
    {
     "data": {
      "text/plain": [
       "3.64**2 * RBF(length_scale=[5.72e+04, 3.87e+04, 1.78]) + WhiteKernel(noise_level=0.228)"
      ]
     },
     "execution_count": 188,
     "metadata": {},
     "output_type": "execute_result"
    }
   ],
   "source": [
    "gp.kernel_"
   ]
  },
  {
   "cell_type": "code",
   "execution_count": 189,
   "id": "2154f5c8",
   "metadata": {},
   "outputs": [],
   "source": [
    "y_mean_pred,y_std_pred = gp.predict(x_test_scaled,return_std=True)"
   ]
  },
  {
   "cell_type": "code",
   "execution_count": 190,
   "id": "375c943b",
   "metadata": {},
   "outputs": [
    {
     "data": {
      "text/plain": [
       "array([4.92996435, 5.31579092, 4.96597337, 5.28807648, 5.18656118,\n",
       "       5.03757933, 5.16709955, 5.29579836, 5.28648144, 5.27058837])"
      ]
     },
     "execution_count": 190,
     "metadata": {},
     "output_type": "execute_result"
    }
   ],
   "source": [
    "y_mean_pred "
   ]
  },
  {
   "cell_type": "code",
   "execution_count": 191,
   "id": "911a76d7",
   "metadata": {},
   "outputs": [
    {
     "data": {
      "text/plain": [
       "array([5.928695, 4.995504, 4.51998 , 5.204662, 4.941447, 4.881434,\n",
       "       5.525729, 5.571162, 5.178349, 5.350584])"
      ]
     },
     "execution_count": 191,
     "metadata": {},
     "output_type": "execute_result"
    }
   ],
   "source": [
    "y_test"
   ]
  },
  {
   "cell_type": "code",
   "execution_count": 192,
   "id": "d90021cb",
   "metadata": {},
   "outputs": [
    {
     "data": {
      "text/plain": [
       "array([0.48892826, 0.48374882, 0.48735794, 0.48432419, 0.49014383,\n",
       "       0.48510481, 0.49206231, 0.48435254, 0.48431629, 0.48449092])"
      ]
     },
     "execution_count": 192,
     "metadata": {},
     "output_type": "execute_result"
    }
   ],
   "source": [
    "y_std_pred"
   ]
  },
  {
   "cell_type": "code",
   "execution_count": 197,
   "id": "ecf36df6",
   "metadata": {},
   "outputs": [
    {
     "data": {
      "text/plain": [
       "<matplotlib.collections.PathCollection at 0x12a19aa10>"
      ]
     },
     "execution_count": 197,
     "metadata": {},
     "output_type": "execute_result"
    },
    {
     "data": {
      "image/png": "[encoded data removed]",
      "text/plain": [
       "<Figure size 640x480 with 1 Axes>"
      ]
     },
     "metadata": {},
     "output_type": "display_data"
    }
   ],
   "source": [
    "plt.scatter(y_test,y_mean_pred)\n",
    "plt.xlabel"
   ]
  },
  {
   "cell_type": "code",
   "execution_count": null,
   "id": "c647def6",
   "metadata": {},
   "outputs": [],
   "source": []
  }
 ],
 "metadata": {
  "kernelspec": {
   "display_name": "Python 3 (ipykernel)",
   "language": "python",
   "name": "python3"
  },
  "language_info": {
   "codemirror_mode": {
    "name": "ipython",
    "version": 3
   },
   "file_extension": ".py",
   "mimetype": "text/x-python",
   "name": "python",
   "nbconvert_exporter": "python",
   "pygments_lexer": "ipython3",
   "version": "3.10.6"
  }
 },
 "nbformat": 4,
 "nbformat_minor": 5
}
