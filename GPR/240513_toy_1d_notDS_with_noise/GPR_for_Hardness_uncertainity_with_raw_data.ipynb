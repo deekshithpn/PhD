{
 "cells": [
  {
   "cell_type": "markdown",
   "id": "30b0df76",
   "metadata": {},
   "source": [
    "### Collecting data from Excel after projecting onto Fundamental region\n",
    "Here we will not do any adjustment in the data before performing the GPR.\n",
    "\n",
    "Now let us import the data in the adjusted_data sheet into a variable df using pandas."
   ]
  },
  {
   "cell_type": "code",
   "execution_count": 70,
   "id": "e4db354a",
   "metadata": {},
   "outputs": [
    {
     "name": "stdout",
     "output_type": "stream",
     "text": [
      "     Test #  φ1 (°)  Φ (°)  φ2 (°)   H (GPa)\n",
      "0       1.0  308.71  43.48   39.96  5.601675\n",
      "1       2.0  311.62  43.36   36.85  5.574661\n",
      "2       9.0  339.34  14.99   47.72  5.620957\n",
      "3      33.0  179.30  45.26   40.19  4.900000\n",
      "4      34.0  180.99  44.69   39.31  5.500000\n",
      "..      ...     ...    ...     ...       ...\n",
      "92     10.0  356.01  40.63    5.75  6.426607\n",
      "93     18.0  140.11  43.58   31.79  5.671592\n",
      "94     47.0  290.15  34.62    0.91  6.772578\n",
      "107    33.0  326.36  40.71   53.90  6.640766\n",
      "108    47.0  141.65  14.07   45.84  8.185540\n",
      "\n",
      "[70 rows x 5 columns]\n"
     ]
    }
   ],
   "source": [
    "import pandas as pd\n",
    "import matplotlib.pyplot as plt\n",
    "\n",
    "# Replace 'file.xlsx' with the path to your Excel file\n",
    "file_path = '/Users/Jayee/Downloads/Nanoindentation data-selected/Berkovich Nanoindentation Strain rates of E-2 E-1 and E0 per second/Strain rate of E0 ps.xlsx'\n",
    "\n",
    "# Read Excel file into a DataFrame, handling any blank spaces as NaN\n",
    "# Use the 'usecols' parameter to specify the range of columns to read\n",
    "df = pd.read_excel(file_path,sheet_name = \"E0_test no_euler angles_EBSD\" , na_values=' ', usecols='A:E')  # Assuming columns A to Z contain data\n",
    "\n",
    "# Drop rows with any missing values\n",
    "df.dropna(inplace=True)\n",
    "\n",
    "# Print the DataFrame\n",
    "print(df)\n"
   ]
  },
  {
   "cell_type": "markdown",
   "id": "d8d22e3c",
   "metadata": {},
   "source": [
    "### Step2: saving our data as an array.\n",
    "Lets save all our data as an array called data."
   ]
  },
  {
   "cell_type": "code",
   "execution_count": 71,
   "id": "fbf10a2e",
   "metadata": {},
   "outputs": [
    {
     "name": "stdout",
     "output_type": "stream",
     "text": [
      "n_data =  70\n"
     ]
    }
   ],
   "source": [
    "import numpy as np\n",
    "data = df.values\n",
    "data = np.array(data)\n",
    "n_data = data.shape[0]\n",
    "print(f\"n_data = \", n_data)"
   ]
  },
  {
   "cell_type": "markdown",
   "id": "433c0ea8",
   "metadata": {},
   "source": [
    "### Step3: Segregating training and test data.\n",
    "We have n_data = 79. Now out of 79 let us train 69 data points using GPR and the rest 10 let us put it as test data. But we will first select the data at random."
   ]
  },
  {
   "cell_type": "code",
   "execution_count": 72,
   "id": "abd011c1",
   "metadata": {},
   "outputs": [],
   "source": [
    "import random\n",
    "random.seed(0)\n",
    "\n",
    "n_test = 10\n",
    "n_train = n_data-n_test\n",
    "\n",
    "random_numbers = random.sample(range(n_data), n_data)\n",
    "data_train = data[random_numbers[0:n_train],1:]\n",
    "data_test = data[random_numbers[n_train:],1:]"
   ]
  },
  {
   "cell_type": "markdown",
   "id": "f9b99898",
   "metadata": {},
   "source": [
    "### Step4: Segregating the X and Y data\n",
    "We have a 2d array with the first 3 columns representing the euler angles and the 4th column representing the hardness. so lets seperate them as x and y respectively\n"
   ]
  },
  {
   "cell_type": "code",
   "execution_count": 73,
   "id": "308fdbb9",
   "metadata": {},
   "outputs": [],
   "source": [
    "x_train = data_train[:,0:-1]\n",
    "y_train = data_train[:,-1]\n",
    "\n",
    "x_test = data_test[:,0:-1]\n",
    "y_test = data_test[:,-1]"
   ]
  },
  {
   "cell_type": "markdown",
   "id": "140ebe19",
   "metadata": {},
   "source": [
    "### Step4: Scaling the x_train and x_test\n"
   ]
  },
  {
   "cell_type": "code",
   "execution_count": 74,
   "id": "8f9c2ecc",
   "metadata": {},
   "outputs": [],
   "source": [
    "from sklearn.preprocessing import MinMaxScaler\n",
    "scaler = MinMaxScaler()\n",
    "scaler.fit(x_train)\n",
    "x_train_scaled = scaler.transform(x_train)\n",
    "x_test_scaled = scaler.transform(x_test)"
   ]
  },
  {
   "cell_type": "markdown",
   "id": "3e2d2909",
   "metadata": {},
   "source": [
    "### Step5: Perfoming GPR"
   ]
  },
  {
   "cell_type": "code",
   "execution_count": 75,
   "id": "99e8b983",
   "metadata": {},
   "outputs": [
    {
     "data": {
      "text/html": [
       "<style>#sk-container-id-7 {color: black;}#sk-container-id-7 pre{padding: 0;}#sk-container-id-7 div.sk-toggleable {background-color: white;}#sk-container-id-7 label.sk-toggleable__label {cursor: pointer;display: block;width: 100%;margin-bottom: 0;padding: 0.3em;box-sizing: border-box;text-align: center;}#sk-container-id-7 label.sk-toggleable__label-arrow:before {content: \"▸\";float: left;margin-right: 0.25em;color: #696969;}#sk-container-id-7 label.sk-toggleable__label-arrow:hover:before {color: black;}#sk-container-id-7 div.sk-estimator:hover label.sk-toggleable__label-arrow:before {color: black;}#sk-container-id-7 div.sk-toggleable__content {max-height: 0;max-width: 0;overflow: hidden;text-align: left;background-color: #f0f8ff;}#sk-container-id-7 div.sk-toggleable__content pre {margin: 0.2em;color: black;border-radius: 0.25em;background-color: #f0f8ff;}#sk-container-id-7 input.sk-toggleable__control:checked~div.sk-toggleable__content {max-height: 200px;max-width: 100%;overflow: auto;}#sk-container-id-7 input.sk-toggleable__control:checked~label.sk-toggleable__label-arrow:before {content: \"▾\";}#sk-container-id-7 div.sk-estimator input.sk-toggleable__control:checked~label.sk-toggleable__label {background-color: #d4ebff;}#sk-container-id-7 div.sk-label input.sk-toggleable__control:checked~label.sk-toggleable__label {background-color: #d4ebff;}#sk-container-id-7 input.sk-hidden--visually {border: 0;clip: rect(1px 1px 1px 1px);clip: rect(1px, 1px, 1px, 1px);height: 1px;margin: -1px;overflow: hidden;padding: 0;position: absolute;width: 1px;}#sk-container-id-7 div.sk-estimator {font-family: monospace;background-color: #f0f8ff;border: 1px dotted black;border-radius: 0.25em;box-sizing: border-box;margin-bottom: 0.5em;}#sk-container-id-7 div.sk-estimator:hover {background-color: #d4ebff;}#sk-container-id-7 div.sk-parallel-item::after {content: \"\";width: 100%;border-bottom: 1px solid gray;flex-grow: 1;}#sk-container-id-7 div.sk-label:hover label.sk-toggleable__label {background-color: #d4ebff;}#sk-container-id-7 div.sk-serial::before {content: \"\";position: absolute;border-left: 1px solid gray;box-sizing: border-box;top: 0;bottom: 0;left: 50%;z-index: 0;}#sk-container-id-7 div.sk-serial {display: flex;flex-direction: column;align-items: center;background-color: white;padding-right: 0.2em;padding-left: 0.2em;position: relative;}#sk-container-id-7 div.sk-item {position: relative;z-index: 1;}#sk-container-id-7 div.sk-parallel {display: flex;align-items: stretch;justify-content: center;background-color: white;position: relative;}#sk-container-id-7 div.sk-item::before, #sk-container-id-7 div.sk-parallel-item::before {content: \"\";position: absolute;border-left: 1px solid gray;box-sizing: border-box;top: 0;bottom: 0;left: 50%;z-index: -1;}#sk-container-id-7 div.sk-parallel-item {display: flex;flex-direction: column;z-index: 1;position: relative;background-color: white;}#sk-container-id-7 div.sk-parallel-item:first-child::after {align-self: flex-end;width: 50%;}#sk-container-id-7 div.sk-parallel-item:last-child::after {align-self: flex-start;width: 50%;}#sk-container-id-7 div.sk-parallel-item:only-child::after {width: 0;}#sk-container-id-7 div.sk-dashed-wrapped {border: 1px dashed gray;margin: 0 0.4em 0.5em 0.4em;box-sizing: border-box;padding-bottom: 0.4em;background-color: white;}#sk-container-id-7 div.sk-label label {font-family: monospace;font-weight: bold;display: inline-block;line-height: 1.2em;}#sk-container-id-7 div.sk-label-container {text-align: center;}#sk-container-id-7 div.sk-container {/* jupyter's `normalize.less` sets `[hidden] { display: none; }` but bootstrap.min.css set `[hidden] { display: none !important; }` so we also need the `!important` here to be able to override the default hidden behavior on the sphinx rendered scikit-learn.org. See: https://github.com/scikit-learn/scikit-learn/issues/21755 */display: inline-block !important;position: relative;}#sk-container-id-7 div.sk-text-repr-fallback {display: none;}</style><div id=\"sk-container-id-7\" class=\"sk-top-container\"><div class=\"sk-text-repr-fallback\"><pre>GaussianProcessRegressor(kernel=1**2 * RBF(length_scale=[1, 1, 1]) + WhiteKernel(noise_level=2),\n",
       "                         n_restarts_optimizer=10, random_state=1)</pre><b>In a Jupyter environment, please rerun this cell to show the HTML representation or trust the notebook. <br />On GitHub, the HTML representation is unable to render, please try loading this page with nbviewer.org.</b></div><div class=\"sk-container\" hidden><div class=\"sk-item\"><div class=\"sk-estimator sk-toggleable\"><input class=\"sk-toggleable__control sk-hidden--visually\" id=\"sk-estimator-id-7\" type=\"checkbox\" checked><label for=\"sk-estimator-id-7\" class=\"sk-toggleable__label sk-toggleable__label-arrow\">GaussianProcessRegressor</label><div class=\"sk-toggleable__content\"><pre>GaussianProcessRegressor(kernel=1**2 * RBF(length_scale=[1, 1, 1]) + WhiteKernel(noise_level=2),\n",
       "                         n_restarts_optimizer=10, random_state=1)</pre></div></div></div></div></div>"
      ],
      "text/plain": [
       "GaussianProcessRegressor(kernel=1**2 * RBF(length_scale=[1, 1, 1]) + WhiteKernel(noise_level=2),\n",
       "                         n_restarts_optimizer=10, random_state=1)"
      ]
     },
     "execution_count": 75,
     "metadata": {},
     "output_type": "execute_result"
    }
   ],
   "source": [
    "from sklearn.gaussian_process import GaussianProcessRegressor as GPR\n",
    "from sklearn.gaussian_process.kernels import WhiteKernel,RBF\n",
    "\n",
    "ls = [1,1,1]\n",
    "lsb = [1e-2,1e7]\n",
    "kernel = 1* RBF(length_scale = ls, length_scale_bounds=lsb)+ WhiteKernel(\n",
    "    noise_level=2, noise_level_bounds=(1e-2, 1e2))\n",
    "\n",
    "gp = GPR(kernel=kernel,n_restarts_optimizer=10,random_state=1)\n",
    "gp.max_iter_predict = 100\n",
    "\n",
    "gp.fit(x_train_scaled,y_train)"
   ]
  },
  {
   "cell_type": "code",
   "execution_count": 76,
   "id": "cc0a015b",
   "metadata": {},
   "outputs": [
    {
     "data": {
      "text/plain": [
       "5.25**2 * RBF(length_scale=[4.28e+04, 4.18e+06, 18.2]) + WhiteKernel(noise_level=0.449)"
      ]
     },
     "execution_count": 76,
     "metadata": {},
     "output_type": "execute_result"
    }
   ],
   "source": [
    "gp.kernel_"
   ]
  },
  {
   "cell_type": "code",
   "execution_count": 77,
   "id": "2154f5c8",
   "metadata": {},
   "outputs": [],
   "source": [
    "y_mean_pred,y_std_pred = gp.predict(x_test_scaled,return_std=True)"
   ]
  },
  {
   "cell_type": "code",
   "execution_count": 78,
   "id": "289ad07d",
   "metadata": {},
   "outputs": [],
   "source": [
    "_ = [min(y_mean_pred),max(y_mean_pred), min(y_test),max(y_test),min(y_train),max(y_train)]\n",
    "temp1 = [min(_),max(_)]\n",
    "temp2 = [min(_),max(_)]"
   ]
  },
  {
   "cell_type": "code",
   "execution_count": 79,
   "id": "ecf36df6",
   "metadata": {},
   "outputs": [
    {
     "data": {
      "image/png": "[encoded data removed]",
      "text/plain": [
       "<Figure size 600x600 with 1 Axes>"
      ]
     },
     "metadata": {},
     "output_type": "display_data"
    }
   ],
   "source": [
    "#plotting the curves\n",
    "fig,axs = plt.subplots(1,1,figsize=(6,6))\n",
    "axs.set_title(\"Truth vs Prediction\",fontweight=\"bold\", fontsize=16)\n",
    "\n",
    "axs.set_xlabel(\"Ground Truth\", fontweight=\"bold\",fontsize=12)\n",
    "axs.set_ylabel(\"GPR Prediction\",fontweight=\"bold\",fontsize=12)\n",
    "axs.errorbar(y_test, y_mean_pred, yerr=y_std_pred, fmt='o', capsize=5, label='Data with Error Bars')\n",
    "axs.plot(temp1,temp1,\"--\")\n",
    "\n",
    "\n",
    "\n",
    "axs.grid(\"on\",linestyle=\"--\",linewidth=1)\n",
    "axs.set_aspect(\"equal\")\n",
    "#axs[(axs_num)].axis(\"equal\")\n",
    "axs.set_facecolor(\"#f4f4f4\")\n",
    "legend = axs.legend(loc=\"best\",fontsize=10)\n",
    "legend.get_frame().set_linewidth(2)\n",
    "legend.get_frame().set_edgecolor(\"black\")\n",
    "legend.get_frame().set_facecolor(\"pink\")\n",
    "spines_dict = [\"top\",\"bottom\",\"left\",\"right\"]\n",
    "for spine_value in spines_dict:\n",
    "    axs.spines[spine_value].set_linewidth(2)\n",
    "axs.tick_params(axis=\"both\",direction=\"inout\", length=5, width=1,labelsize=10)\n",
    "plt.savefig(\"raw_e0.pdf\")\n",
    "plt.show()\n"
   ]
  },
  {
   "cell_type": "code",
   "execution_count": null,
   "id": "c647def6",
   "metadata": {},
   "outputs": [],
   "source": []
  }
 ],
 "metadata": {
  "kernelspec": {
   "display_name": "Python 3 (ipykernel)",
   "language": "python",
   "name": "python3"
  },
  "language_info": {
   "codemirror_mode": {
    "name": "ipython",
    "version": 3
   },
   "file_extension": ".py",
   "mimetype": "text/x-python",
   "name": "python",
   "nbconvert_exporter": "python",
   "pygments_lexer": "ipython3",
   "version": "3.10.6"
  }
 },
 "nbformat": 4,
 "nbformat_minor": 5
}
